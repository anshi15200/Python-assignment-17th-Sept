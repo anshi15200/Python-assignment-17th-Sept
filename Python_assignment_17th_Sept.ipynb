{
  "nbformat": 4,
  "nbformat_minor": 0,
  "metadata": {
    "colab": {
      "provenance": []
    },
    "kernelspec": {
      "name": "python3",
      "display_name": "Python 3"
    },
    "language_info": {
      "name": "python"
    }
  },
  "cells": [
    {
      "cell_type": "markdown",
      "source": [
        "##For Loop :-"
      ],
      "metadata": {
        "id": "9T6YfQ9VCDe6"
      }
    },
    {
      "cell_type": "markdown",
      "source": [
        "1. Write a Python program to print numbers from 1 to 10 using a for loop.\n"
      ],
      "metadata": {
        "id": "PhF9h6w5CN5J"
      }
    },
    {
      "cell_type": "code",
      "source": [
        "## define a empty list for appending elements\n",
        "list=[]\n",
        "## define a for loop\n",
        "for i in range(0,11):\n",
        "  list.append(i)\n",
        "## print the list after appending elements\n",
        "print(list)"
      ],
      "metadata": {
        "colab": {
          "base_uri": "https://localhost:8080/"
        },
        "id": "eg55ITIMCOw2",
        "outputId": "3cf48d68-f3ec-4000-c89f-cffaadbfd177"
      },
      "execution_count": null,
      "outputs": [
        {
          "output_type": "stream",
          "name": "stdout",
          "text": [
            "[0, 1, 2, 3, 4, 5, 6, 7, 8, 9, 10]\n"
          ]
        }
      ]
    },
    {
      "cell_type": "markdown",
      "source": [
        "2. Explain the difference between a for loop and a while loop in Python."
      ],
      "metadata": {
        "id": "CSyPhxMgCtCf"
      }
    },
    {
      "cell_type": "code",
      "source": [
        "''' for loop is used  for iterating over sequence and execute a block  a code for each element'''\n",
        "## example of a for loop\n",
        "for i in range (0,6):\n",
        "  print(i)\n",
        "''' in while loop , we does not know how many times code is to be executed, the loop will continue until  the condition is true'''\n",
        "## example of a while loop\n",
        "number=1\n",
        "while number<5:\n",
        "  print(number)\n",
        "  number+=1"
      ],
      "metadata": {
        "colab": {
          "base_uri": "https://localhost:8080/"
        },
        "id": "AVWkNfRjCwCs",
        "outputId": "fd2077b7-8c9f-4d09-ef20-4ae639c6f64e"
      },
      "execution_count": null,
      "outputs": [
        {
          "output_type": "stream",
          "name": "stdout",
          "text": [
            "0\n",
            "1\n",
            "2\n",
            "3\n",
            "4\n",
            "5\n",
            "1\n",
            "2\n",
            "3\n",
            "4\n"
          ]
        }
      ]
    },
    {
      "cell_type": "markdown",
      "source": [
        "3. Write a Python program to calculate the sum of all numbers from 1 to 100 using a for loop."
      ],
      "metadata": {
        "id": "e807qiGgRdTo"
      }
    },
    {
      "cell_type": "code",
      "source": [
        "## define the initial sum as 0\n",
        "sum=0\n",
        "##  define a for loop\n",
        "for i in range(0,101):\n",
        "  sum+=i\n",
        "  ## print the final  sum of the  numbers\n",
        "print(\"sum of numbers from 0 to 101 is\",sum)"
      ],
      "metadata": {
        "colab": {
          "base_uri": "https://localhost:8080/"
        },
        "id": "7zYiyOX2ReCZ",
        "outputId": "748a77ac-68fd-4cf2-9227-7f7e318f736a"
      },
      "execution_count": null,
      "outputs": [
        {
          "output_type": "stream",
          "name": "stdout",
          "text": [
            "sum of numbers from 0 to 101 is 5050\n"
          ]
        }
      ]
    },
    {
      "cell_type": "markdown",
      "source": [
        "4. How do you iterate through a list using a for loop in Python?\n"
      ],
      "metadata": {
        "id": "r9lfD7U3Acx-"
      }
    },
    {
      "cell_type": "code",
      "source": [
        "# define a list\n",
        "list=[1,2,3,4,5]\n",
        "## use for loop to itearte through list\n",
        "for i in list:\n",
        "  print(i)"
      ],
      "metadata": {
        "colab": {
          "base_uri": "https://localhost:8080/"
        },
        "id": "-YnSfTMxAgV_",
        "outputId": "7b02ac3a-856e-4f6e-ce70-f794b37bf15c"
      },
      "execution_count": null,
      "outputs": [
        {
          "output_type": "stream",
          "name": "stdout",
          "text": [
            "1\n",
            "2\n",
            "3\n",
            "4\n",
            "5\n"
          ]
        }
      ]
    },
    {
      "cell_type": "markdown",
      "source": [
        "5. Write a Python program to find the product of all elements in a list using a for loop."
      ],
      "metadata": {
        "id": "wTnbaYbgBJrE"
      }
    },
    {
      "cell_type": "code",
      "source": [
        "#define a list\n",
        "list=[9,8,7,6,5,4,3,2,1]\n",
        "# define the initial prodxuct\n",
        "product=1\n",
        "for i in list:\n",
        "  product*=i\n",
        "print(product)"
      ],
      "metadata": {
        "colab": {
          "base_uri": "https://localhost:8080/"
        },
        "id": "X3UOaMGqA5-t",
        "outputId": "e77480cb-ab6c-44a8-d5a4-590378b84827"
      },
      "execution_count": null,
      "outputs": [
        {
          "output_type": "stream",
          "name": "stdout",
          "text": [
            "362880\n"
          ]
        }
      ]
    },
    {
      "cell_type": "markdown",
      "source": [
        "6. Create a Python program that prints all even numbers from 1 to 20 using a for loop."
      ],
      "metadata": {
        "id": "rmk1-7jMCtZC"
      }
    },
    {
      "cell_type": "code",
      "source": [
        "## create a empty list\n",
        "l=[]\n",
        "## use for loop\n",
        "for i in range(1,21):\n",
        "  if i%2==0:\n",
        "    ## append elements in  initial list\n",
        "    l.append(i)\n",
        "    ## print the list after appending elements\n",
        "print(l)\n"
      ],
      "metadata": {
        "colab": {
          "base_uri": "https://localhost:8080/"
        },
        "id": "YeXA3QNRCuQV",
        "outputId": "6c1abda6-1d37-45ce-e8c7-dfdf59846472"
      },
      "execution_count": null,
      "outputs": [
        {
          "output_type": "stream",
          "name": "stdout",
          "text": [
            "[2, 4, 6, 8, 10, 12, 14, 16, 18, 20]\n"
          ]
        }
      ]
    },
    {
      "cell_type": "markdown",
      "source": [
        "\n",
        "7. Write a Python program that calculates the factorial of a number using a for loop."
      ],
      "metadata": {
        "id": "obeS2BBdDnCA"
      }
    },
    {
      "cell_type": "code",
      "source": [
        "## Function to calculate factorial using a for loop\n",
        "def factorial(n):\n",
        "  ## use if condition\n",
        "  if n<0:\n",
        "    print(\"factorial is not defined\")\n",
        "  elif n==0 or n==1:\n",
        "    return 1\n",
        "  else:\n",
        "    factorial=1\n",
        "    for i in range(2,n+1):\n",
        "      factorial*=i\n",
        "    return factorial\n",
        "    # get the number from user\n",
        "n=int(input(\"enter a number\"))\n",
        "## print the factorial of A given number\n",
        "print(\"the factorial for a given number is\",factorial(n))\n",
        "\n"
      ],
      "metadata": {
        "colab": {
          "base_uri": "https://localhost:8080/"
        },
        "id": "QH-5mndMDnpr",
        "outputId": "6159fee8-b194-4f10-d1c0-58a4de989650"
      },
      "execution_count": null,
      "outputs": [
        {
          "output_type": "stream",
          "name": "stdout",
          "text": [
            "enter a number5\n",
            "the factorial for a given number is 120\n"
          ]
        }
      ]
    },
    {
      "cell_type": "markdown",
      "source": [
        "8. How can you iterate through the characters of a string using a for loop in Python?\n"
      ],
      "metadata": {
        "id": "IOR3fTJrHem5"
      }
    },
    {
      "cell_type": "code",
      "source": [
        "# get a string from user\n",
        "s=input(\"enter a string\")\n",
        "## define a for loop to iterate through characters in strings\n",
        "for i in s:\n",
        "  for char in i:\n",
        "    print(i)"
      ],
      "metadata": {
        "id": "VZjjOiTRFd9e",
        "colab": {
          "base_uri": "https://localhost:8080/"
        },
        "outputId": "bdb86bbc-a19c-4e88-ca41-949206d6e2f0"
      },
      "execution_count": null,
      "outputs": [
        {
          "output_type": "stream",
          "name": "stdout",
          "text": [
            "enter a stringanshika\n",
            "a\n",
            "n\n",
            "s\n",
            "h\n",
            "i\n",
            "k\n",
            "a\n"
          ]
        }
      ]
    },
    {
      "cell_type": "markdown",
      "source": [
        "9. Write a Python program to find the largest number in a list using a for loop."
      ],
      "metadata": {
        "id": "9uPDjuF0IUyI"
      }
    },
    {
      "cell_type": "code",
      "source": [
        "# define a list\n",
        "list=[1,2,53,68]\n",
        "def largest(list):\n",
        "  if len(list)==0:\n",
        "    print(\"list is empty\")\n",
        "  largest_number=list[0]\n",
        "  for i in list:\n",
        "    if i>largest_number:\n",
        "      largest_number=i\n",
        "  return largest_number\n",
        "largest_number=largest(list)\n",
        "print(\"the largest number in the list is \",largest_number)\n",
        "\n"
      ],
      "metadata": {
        "colab": {
          "base_uri": "https://localhost:8080/"
        },
        "id": "t51wPdjZIVev",
        "outputId": "c3e50ac2-4247-41f8-b5f3-4f7b22d79130"
      },
      "execution_count": null,
      "outputs": [
        {
          "output_type": "stream",
          "name": "stdout",
          "text": [
            "the largest number in the list is  1\n"
          ]
        }
      ]
    },
    {
      "cell_type": "markdown",
      "source": [
        "10. Create a Python program that prints the Fibonacci sequence up to a specified limit using a for loop\n"
      ],
      "metadata": {
        "id": "EZSCfhlaetXX"
      }
    },
    {
      "cell_type": "code",
      "source": [
        "n=int(input(\"enter a number\"))\n",
        "def fib(n):\n",
        "\n",
        "  fibonacci_sequence=[]\n",
        "  a,b=0,1\n",
        "  while a < n:\n",
        "    fibonacci_sequence.append(a)\n",
        "    a,b=b,a+b\n",
        "  return fibonacci_sequence\n",
        "\n",
        "\n",
        "fibonacci_sequence=fib(n)\n",
        "print(\"the fibonacci sequence upto\",n,\"is\",fib(n))\n",
        "\n"
      ],
      "metadata": {
        "colab": {
          "base_uri": "https://localhost:8080/"
        },
        "id": "SphW9zA-et7a",
        "outputId": "cae7df20-2fec-4eea-b04c-e30c8df9bc35"
      },
      "execution_count": null,
      "outputs": [
        {
          "output_type": "stream",
          "name": "stdout",
          "text": [
            "enter a number10\n",
            "the fibonacci sequence upto 10 is [0, 1, 1, 2, 3, 5, 8]\n"
          ]
        }
      ]
    },
    {
      "cell_type": "markdown",
      "source": [
        "11. Write a Python program to count the number of vowels in a given string using a for loop"
      ],
      "metadata": {
        "id": "0M-aL855i2P4"
      }
    },
    {
      "cell_type": "code",
      "source": [
        "s=input(\"enter a string\")\n",
        "vowels=\"AEIOUaeiou\"\n",
        "count=0\n",
        "for char in s:\n",
        "  if char in vowels:\n",
        "    count +=1\n",
        "print(\"the number of vowels in string is\",count)"
      ],
      "metadata": {
        "colab": {
          "base_uri": "https://localhost:8080/"
        },
        "id": "896_sDiwi4sA",
        "outputId": "95b5aeb6-8dd3-4e91-8e3e-74487e3530c9"
      },
      "execution_count": null,
      "outputs": [
        {
          "output_type": "stream",
          "name": "stdout",
          "text": [
            "enter a stringanshika\n",
            "the number of vowels in string is 3\n"
          ]
        }
      ]
    },
    {
      "cell_type": "markdown",
      "source": [
        "12. Create a Python program that generates a multiplication table for a given number using a for loop"
      ],
      "metadata": {
        "id": "QxqeVXRdi9p3"
      }
    },
    {
      "cell_type": "code",
      "source": [
        "# get the number from the user\n",
        "number=int(input(\"enter a number\"))\n",
        "#use for loop\n",
        "for i in range(1,11):\n",
        "  result=number*i\n",
        "#print the multiplication table\n",
        "  print(number,\"*\",i,\"=\",result)"
      ],
      "metadata": {
        "colab": {
          "base_uri": "https://localhost:8080/"
        },
        "id": "YN8WKd_ljBfh",
        "outputId": "2e1c44cf-528b-4016-9bc0-1e1943e0aefd"
      },
      "execution_count": null,
      "outputs": [
        {
          "output_type": "stream",
          "name": "stdout",
          "text": [
            "enter a number5\n",
            "5 * 1 = 5\n",
            "5 * 2 = 10\n",
            "5 * 3 = 15\n",
            "5 * 4 = 20\n",
            "5 * 5 = 25\n",
            "5 * 6 = 30\n",
            "5 * 7 = 35\n",
            "5 * 8 = 40\n",
            "5 * 9 = 45\n",
            "5 * 10 = 50\n"
          ]
        }
      ]
    },
    {
      "cell_type": "markdown",
      "source": [
        "13. Write a Python program to reverse a list using a for loop.\n"
      ],
      "metadata": {
        "id": "tzpfxHHjjJIu"
      }
    },
    {
      "cell_type": "code",
      "source": [
        "# define a list\n",
        "l=[1,2,3,4,5,6]\n",
        "# define a list to store reverse list\n",
        "l1=[]\n",
        "#use for loop\n",
        "for i in l:\n",
        "  l1=l[::-1]\n",
        "# print reversed list\n",
        "print(\"the reversed list is\",l1)\n"
      ],
      "metadata": {
        "colab": {
          "base_uri": "https://localhost:8080/"
        },
        "id": "1ujeuadKjMMT",
        "outputId": "83871cee-ef1f-4729-f581-521b20a4cf05"
      },
      "execution_count": null,
      "outputs": [
        {
          "output_type": "stream",
          "name": "stdout",
          "text": [
            "the reversed list is [6, 5, 4, 3, 2, 1]\n"
          ]
        }
      ]
    },
    {
      "cell_type": "markdown",
      "source": [
        "14. Write a Python program to find the common elements between two lists using a for loop\n"
      ],
      "metadata": {
        "id": "IQuYf8fwjoEN"
      }
    },
    {
      "cell_type": "code",
      "source": [
        "l1=[1,2,3,4,5,6,7]\n",
        "l2=[1,9,3,5,95,7,35]\n",
        "l3=[]\n",
        "for i in l1:\n",
        "  for j in l2:\n",
        "    if i==j:\n",
        "      l3.append(i)\n",
        "      break\n",
        "if l3:\n",
        "  print(\"the common elements are\",l3)\n",
        "else:\n",
        "  print(\"there is no common elements\")\n"
      ],
      "metadata": {
        "colab": {
          "base_uri": "https://localhost:8080/"
        },
        "id": "HuMrq7l6jpbw",
        "outputId": "591b23d2-217b-4cb9-966d-fc1006287c3f"
      },
      "execution_count": null,
      "outputs": [
        {
          "output_type": "stream",
          "name": "stdout",
          "text": [
            "the common elements are [1, 3, 5, 7]\n"
          ]
        }
      ]
    },
    {
      "cell_type": "markdown",
      "source": [
        "15. Explain how to use a for loop to iterate through the keys and values of a dictionary in Python."
      ],
      "metadata": {
        "id": "Cx-wXi0aj75C"
      }
    },
    {
      "cell_type": "code",
      "source": [
        "# Define a dictionary\n",
        "my_dict = {'a': 1, 'b': 2, 'c': 3, 'd': 4}\n",
        "\n",
        "# Iterating through keys and values using a for loop\n",
        "for key, value in my_dict.items():\n",
        "    print(\"Key:\", key, \"Value:\", value)\n"
      ],
      "metadata": {
        "colab": {
          "base_uri": "https://localhost:8080/"
        },
        "id": "hpnybZrsj84N",
        "outputId": "330399ee-71e6-4a60-acb4-78d18d15b4a4"
      },
      "execution_count": null,
      "outputs": [
        {
          "output_type": "stream",
          "name": "stdout",
          "text": [
            "Key: a Value: 1\n",
            "Key: b Value: 2\n",
            "Key: c Value: 3\n",
            "Key: d Value: 4\n"
          ]
        }
      ]
    },
    {
      "cell_type": "markdown",
      "source": [
        "16. Write a Python program to find the GCD (Greatest Common Divisor) of two numbers using a for\n",
        "loop.\n"
      ],
      "metadata": {
        "id": "qDM8E4wdkbfT"
      }
    },
    {
      "cell_type": "code",
      "source": [
        "# Function to find the GCD of two numbers using the Euclidean algorithm\n",
        "def find_gcd(a, b):\n",
        "    while b:\n",
        "        a, b = b, a % b\n",
        "    return a\n",
        "\n",
        "# Input two numbers from the user\n",
        "num1 = int(input(\"Enter the first number: \"))\n",
        "num2 = int(input(\"Enter the second number: \"))\n",
        "\n",
        "# Find the GCD using the find_gcd function\n",
        "gcd = find_gcd(num1, num2)\n",
        "\n",
        "# Print the GCD\n",
        "print(f\"The greatest common divisor (GCD) of {num1} and {num2} is {gcd}\")\n"
      ],
      "metadata": {
        "colab": {
          "base_uri": "https://localhost:8080/"
        },
        "id": "Ob4ylGkNkcXM",
        "outputId": "4f94bc9d-3e67-40e4-b77f-8e88391bac2b"
      },
      "execution_count": null,
      "outputs": [
        {
          "output_type": "stream",
          "name": "stdout",
          "text": [
            "Enter the first number: 15\n",
            "Enter the second number: 14\n",
            "The greatest common divisor (GCD) of 15 and 14 is 1\n"
          ]
        }
      ]
    },
    {
      "cell_type": "markdown",
      "source": [
        "17. Create a Python program that checks if a string is a palindrome using a for loop"
      ],
      "metadata": {
        "id": "znQrgRRAlKTb"
      }
    },
    {
      "cell_type": "code",
      "source": [
        "def palindrome(string):\n",
        "  return string == string[::-1]\n",
        "string=input(\"enter a string\")\n",
        "if palindrome(string):\n",
        "  print(\"the entered string is palindrome\")\n",
        "else:\n",
        "  print(\"the entered string is not palindrome\")\n",
        "\n"
      ],
      "metadata": {
        "colab": {
          "base_uri": "https://localhost:8080/"
        },
        "id": "XC0369hflLPV",
        "outputId": "faf346a6-435e-4866-aadf-56ef9a3379df"
      },
      "execution_count": null,
      "outputs": [
        {
          "output_type": "stream",
          "name": "stdout",
          "text": [
            "enter a stringstar\n",
            "the entered string is not palindrome\n"
          ]
        }
      ]
    },
    {
      "cell_type": "markdown",
      "source": [
        "18. Write a Python program to remove duplicates from a list using a for loop"
      ],
      "metadata": {
        "id": "bzLJ0Igcmddj"
      }
    },
    {
      "cell_type": "code",
      "source": [
        "  def duplicates(list):\n",
        "  unique_list=[]\n",
        "  list1=set()\n",
        "  for i in list:\n",
        "    if i not in list1:\n",
        "      unique_list.append(i)\n",
        "      list1.add(i)\n",
        "  return unique_list\n",
        "list=[1,2,3,6,2,3,5,4,6,7,8,6,9,1,6,4]\n",
        "result=duplicates(list)\n",
        "print(\"list after removing duplicates is\",result)"
      ],
      "metadata": {
        "colab": {
          "base_uri": "https://localhost:8080/"
        },
        "id": "4SJoEC5GmeUG",
        "outputId": "47f6853c-c425-4e41-cc44-79a2146ada7a"
      },
      "execution_count": null,
      "outputs": [
        {
          "output_type": "stream",
          "name": "stdout",
          "text": [
            "list after removing duplicates is [1, 2, 3, 6, 5, 4, 7, 8, 9]\n"
          ]
        }
      ]
    },
    {
      "cell_type": "markdown",
      "source": [
        "19. Create a Python program that counts the number of words in a sentence using a for loop."
      ],
      "metadata": {
        "id": "OzKY5bJEpqU3"
      }
    },
    {
      "cell_type": "code",
      "source": [
        "sentence=input(\"enter a sentence\")\n",
        "count=0\n",
        "new_sentence=sentence.replace(\" \",\"\")\n",
        "for i  in  new_sentence:\n",
        "  for char in i:\n",
        "    count+=1\n",
        "print(\"the number of words in string is\",count)"
      ],
      "metadata": {
        "id": "GbdS9mbMprOi",
        "colab": {
          "base_uri": "https://localhost:8080/"
        },
        "outputId": "09a56e8d-8557-46a3-cfd6-a32953b4bd68"
      },
      "execution_count": null,
      "outputs": [
        {
          "output_type": "stream",
          "name": "stdout",
          "text": [
            "enter a sentencetoday is sunday\n",
            "the number of words in string is 13\n"
          ]
        }
      ]
    },
    {
      "cell_type": "markdown",
      "source": [
        "20. Write a Python program to find the sum of all odd numbers from 1 to 50 using a for loop."
      ],
      "metadata": {
        "id": "BAz7exh14DLq"
      }
    },
    {
      "cell_type": "code",
      "source": [
        "## determine a empty list\n",
        "list=[]\n",
        "## use for loop\n",
        "for i in range(1,51):\n",
        "  if i%2!=0:\n",
        "    ## append elements in list\n",
        "    list.append(i)\n",
        "    ## print the lust after appending elements\n",
        "print(list)\n"
      ],
      "metadata": {
        "colab": {
          "base_uri": "https://localhost:8080/"
        },
        "id": "1pThSirH4EH7",
        "outputId": "02d1e95c-2ce1-4347-dddf-5c1a8769a574"
      },
      "execution_count": null,
      "outputs": [
        {
          "output_type": "stream",
          "name": "stdout",
          "text": [
            "[1, 3, 5, 7, 9, 11, 13, 15, 17, 19, 21, 23, 25, 27, 29, 31, 33, 35, 37, 39, 41, 43, 45, 47, 49]\n"
          ]
        }
      ]
    },
    {
      "cell_type": "markdown",
      "source": [
        "21. Write a Python program that checks if a given year is a leap year using a for loop"
      ],
      "metadata": {
        "id": "FNgpnZe3815g"
      }
    },
    {
      "cell_type": "code",
      "source": [
        "year=int(input(\"enter a year\"))\n",
        "if year %4==0:\n",
        "  print(\"this is a leap year\")\n",
        "else:\n",
        "  print(\"this is not a leap year\")"
      ],
      "metadata": {
        "id": "cFggxHJx863A",
        "colab": {
          "base_uri": "https://localhost:8080/"
        },
        "outputId": "b1f9857e-e225-4b64-b40d-4bd962f2648b"
      },
      "execution_count": null,
      "outputs": [
        {
          "output_type": "stream",
          "name": "stdout",
          "text": [
            "enter a year1695\n",
            "this is not a leap year\n"
          ]
        }
      ]
    },
    {
      "cell_type": "markdown",
      "source": [
        "22. Create a Python program that calculates the square root of a number using a for loop.\n"
      ],
      "metadata": {
        "id": "UJjyyrLhkjwQ"
      }
    },
    {
      "cell_type": "code",
      "source": [
        "import math\n",
        "\n",
        "def calculate_square_root(number):\n",
        "    if number < 0:\n",
        "        raise ValueError(\"Cannot calculate the square root of a negative number.\")\n",
        "\n",
        "    return math.sqrt(number)\n",
        "\n",
        "# Example usage:\n",
        "number_to_calculate_square_root = 25\n",
        "result = calculate_square_root(number_to_calculate_square_root)\n",
        "\n",
        "print(f\"The square root of {number_to_calculate_square_root} is {result}\")\n"
      ],
      "metadata": {
        "id": "PqaZI9sykkep",
        "colab": {
          "base_uri": "https://localhost:8080/"
        },
        "outputId": "70fc6526-3b53-4656-f6a5-7117b9f0f004"
      },
      "execution_count": 31,
      "outputs": [
        {
          "output_type": "stream",
          "name": "stdout",
          "text": [
            "The square root of 25 is 5.0\n"
          ]
        }
      ]
    },
    {
      "cell_type": "markdown",
      "source": [
        "23. Write a Python program to find the LCM (Least Common Multiple) of two numbers using a for\n",
        "loop.\n"
      ],
      "metadata": {
        "id": "OLIOIVGJmXEA"
      }
    },
    {
      "cell_type": "code",
      "source": [
        "def gcd(a,b):\n",
        "  while b!=0:\n",
        "    a,b=b,a % b\n",
        "  return a\n",
        "\n",
        "def lcm(a,b):\n",
        "  return abs(a*b) // gcd(a,b)\n",
        "a=int(input(\"enter a number\"))\n",
        "b=int (input(\"enter a number\"))\n",
        "lcm_result= lcm(a,b)\n",
        "print(\"the lcm for given numbers is\",lcm_result)\n"
      ],
      "metadata": {
        "colab": {
          "base_uri": "https://localhost:8080/"
        },
        "id": "LbGCz0BvmaJo",
        "outputId": "a75c703b-9349-46f3-dae8-c428745e6c75"
      },
      "execution_count": null,
      "outputs": [
        {
          "output_type": "stream",
          "name": "stdout",
          "text": [
            "enter a number3\n",
            "enter a number2\n",
            "the lcm for given numbers is 6\n"
          ]
        }
      ]
    },
    {
      "cell_type": "markdown",
      "source": [
        "##If else :\n"
      ],
      "metadata": {
        "id": "Cg6oQI2ytIKW"
      }
    },
    {
      "cell_type": "markdown",
      "source": [
        "1. Write a Python program to check if a number is positive, negative, or zero using an if-else\n",
        "statement.\n"
      ],
      "metadata": {
        "id": "NB5_uUmitSei"
      }
    },
    {
      "cell_type": "code",
      "source": [
        "a= int(input(\"enter a number\"))\n",
        "if a>0:\n",
        "  print(\"number is positive\")\n",
        "elif a<0:\n",
        "  print(\"number is negative\")\n",
        "else:\n",
        "  print(\"number is zero\")"
      ],
      "metadata": {
        "colab": {
          "base_uri": "https://localhost:8080/"
        },
        "id": "eIvc9FgqtTRt",
        "outputId": "4925c153-c3fd-462b-ea67-ced87f57cd7c"
      },
      "execution_count": null,
      "outputs": [
        {
          "output_type": "stream",
          "name": "stdout",
          "text": [
            "enter a number15\n",
            "number is positive\n"
          ]
        }
      ]
    },
    {
      "cell_type": "markdown",
      "source": [
        "2. Create a Python program that checks if a given number is even or odd using an if-else statement"
      ],
      "metadata": {
        "id": "qU9Q95bRutlW"
      }
    },
    {
      "cell_type": "code",
      "source": [
        "b=int(input(\"enter a number\"))\n",
        "if b%2==0:\n",
        "  print(\"number is even\")\n",
        "else:\n",
        "  print(\"number is odd\")"
      ],
      "metadata": {
        "colab": {
          "base_uri": "https://localhost:8080/"
        },
        "id": "ZKjJ97e5u1TF",
        "outputId": "c419c336-5bac-48bd-f00c-84b8d2ba5724"
      },
      "execution_count": null,
      "outputs": [
        {
          "output_type": "stream",
          "name": "stdout",
          "text": [
            "enter a number25\n",
            "number is odd\n"
          ]
        }
      ]
    },
    {
      "cell_type": "markdown",
      "source": [
        "3. How can you use nested if-else statements in Python, and provide an example?"
      ],
      "metadata": {
        "id": "LzGvLcohvAxt"
      }
    },
    {
      "cell_type": "code",
      "source": [
        "##Nested if-else statements in Python allow you to have one or more if-else statements inside another if or else block\n",
        "a=int(input(\"enter a number\"))\n",
        "b=int(input(\"enter a number\"))\n",
        "c=int(input(\"enter a number\"))\n",
        "if a>b:\n",
        "  if a>c:\n",
        "    largest=a\n",
        "  else:\n",
        "    largest = c\n",
        "else:\n",
        "  if b>c:\n",
        "    largest =b\n",
        "  else:\n",
        "    largest =c\n",
        "print(\"the largest number is\",largest)"
      ],
      "metadata": {
        "colab": {
          "base_uri": "https://localhost:8080/"
        },
        "id": "4dg3XxEovEbq",
        "outputId": "fc7f9cec-2895-4d34-a2a2-e97f84fdb91e"
      },
      "execution_count": null,
      "outputs": [
        {
          "output_type": "stream",
          "name": "stdout",
          "text": [
            "enter a number15\n",
            "enter a number8\n",
            "enter a number96\n",
            "the largest number is 96\n"
          ]
        }
      ]
    },
    {
      "cell_type": "markdown",
      "source": [
        "4. Write a Python program to determine the largest of three numbers using if-else."
      ],
      "metadata": {
        "id": "6jG_WCI4vfH2"
      }
    },
    {
      "cell_type": "code",
      "source": [
        "\n",
        "a=int(input(\"enter a number\"))\n",
        "b=int(input(\"enter a number\"))\n",
        "c=int(input(\"enter a number\"))\n",
        "if a>b:\n",
        "  if a>c:\n",
        "    largest=a\n",
        "  else:\n",
        "    largest = c\n",
        "else:\n",
        "  if b>c:\n",
        "    largest =b\n",
        "  else:\n",
        "    largest =c\n",
        "print(\"the largest number is\",largest)"
      ],
      "metadata": {
        "colab": {
          "base_uri": "https://localhost:8080/"
        },
        "id": "6hdMg2xOvf0Y",
        "outputId": "608fcd6c-61b9-4f55-dac5-e4120d4587a7"
      },
      "execution_count": null,
      "outputs": [
        {
          "output_type": "stream",
          "name": "stdout",
          "text": [
            "enter a number54\n",
            "enter a number69\n",
            "enter a number85\n",
            "the largest number is 85\n"
          ]
        }
      ]
    },
    {
      "cell_type": "markdown",
      "source": [
        "5. Write a Python program that calculates the absolute value of a number using if-else."
      ],
      "metadata": {
        "id": "CszWmxXcvvL4"
      }
    },
    {
      "cell_type": "code",
      "source": [
        "def abs(n):\n",
        "  if n>=0:\n",
        "    absolute_value= n\n",
        "  else:\n",
        "    absolute_value= -n\n",
        "  return absolute_value\n",
        "\n",
        "n=float(input(\"enter a value\"))\n",
        "result=abs(n)\n",
        "print(\"the absolute value of n is\",result)"
      ],
      "metadata": {
        "id": "rHhlIPzwv0cG",
        "colab": {
          "base_uri": "https://localhost:8080/"
        },
        "outputId": "13defa4d-2c87-4b17-fde9-dea3db6cef38"
      },
      "execution_count": null,
      "outputs": [
        {
          "output_type": "stream",
          "name": "stdout",
          "text": [
            "enter a value-15.8\n",
            "the absolute value of n is 15.8\n"
          ]
        }
      ]
    },
    {
      "cell_type": "markdown",
      "source": [
        "6. Create a Python program that checks if a given character is a vowel or consonant using if-else.\n"
      ],
      "metadata": {
        "id": "ZwSW74XXv1Ng"
      }
    },
    {
      "cell_type": "code",
      "source": [
        "a=input(\"enter a character\")\n",
        "vowels=\"AEIOUaeiou\"\n",
        "if a== vowels:\n",
        "  print(\"char is vowel\")\n",
        "else:\n",
        "  print(\"char is consonant\")"
      ],
      "metadata": {
        "colab": {
          "base_uri": "https://localhost:8080/"
        },
        "id": "IUqwtp4Gv4ak",
        "outputId": "9fc78cf4-e6fa-4a36-8c38-0e4c969001b7"
      },
      "execution_count": null,
      "outputs": [
        {
          "output_type": "stream",
          "name": "stdout",
          "text": [
            "enter a characterk\n",
            "char is consonant\n"
          ]
        }
      ]
    },
    {
      "cell_type": "markdown",
      "source": [
        "7. Write a Python program to determine if a user is eligible to vote based on their age using if-else.\n"
      ],
      "metadata": {
        "id": "nj2iy5cawRc3"
      }
    },
    {
      "cell_type": "code",
      "source": [
        "age=int(input(\"enter age\"))\n",
        "if age>=18:\n",
        "  print(\"you are eligible for vote\")\n",
        "else:\n",
        "  print(\"you are not eligible for vote\")"
      ],
      "metadata": {
        "colab": {
          "base_uri": "https://localhost:8080/"
        },
        "id": "tj04Oj1iwSWZ",
        "outputId": "ccc72aea-93f8-41f1-8145-fdb1cb04f612"
      },
      "execution_count": null,
      "outputs": [
        {
          "output_type": "stream",
          "name": "stdout",
          "text": [
            "enter age25\n",
            "you are eligible for vote\n"
          ]
        }
      ]
    },
    {
      "cell_type": "markdown",
      "source": [
        "8. Create a Python program that calculates the discount amount based on the purchase amount\n",
        "using if-else"
      ],
      "metadata": {
        "id": "8UVyid-Fwe01"
      }
    },
    {
      "cell_type": "code",
      "source": [
        "purchase_amount=float(input(\"enter the amount\"))\n",
        "if purchase_amount<100:\n",
        "  discount=0\n",
        "elif purchase_amount<200:\n",
        "  discount=.05\n",
        "elif purchase_amount<500:\n",
        "  discount=.1\n",
        "else:\n",
        "  discount=.15\n",
        "discounted_price=purchase_amount - (purchase_amount * discount)\n",
        "print(\"the discounted price is\",discounted_price)"
      ],
      "metadata": {
        "colab": {
          "base_uri": "https://localhost:8080/"
        },
        "id": "hlrA8iCQwfiG",
        "outputId": "1b1dde4b-e498-4da8-af1a-7fb37a1f6f37"
      },
      "execution_count": null,
      "outputs": [
        {
          "output_type": "stream",
          "name": "stdout",
          "text": [
            "enter the amount152\n",
            "the discounted price is 144.4\n"
          ]
        }
      ]
    },
    {
      "cell_type": "markdown",
      "source": [
        "9. Write a Python program to check if a number is within a specified range using if-else"
      ],
      "metadata": {
        "id": "TNGTC67ewqOm"
      }
    },
    {
      "cell_type": "code",
      "source": [
        "def num_in_range(n,lower_limit,upper_limit):\n",
        "  if lower_limit<=n<=upper_limit:\n",
        "    print(n,\"is in the range\")\n",
        "  else:\n",
        "    print(n,\"is not in the range\")\n",
        "n=float(input(\"enter a number\"))\n",
        "lower_limit=float(input(\"enter lower limit\"))\n",
        "upper_limit=float(input(\"enter upper limit\"))\n",
        "num_in_range(n,lower_limit,upper_limit)\n"
      ],
      "metadata": {
        "id": "nyuSWaSkwq43",
        "colab": {
          "base_uri": "https://localhost:8080/"
        },
        "outputId": "cedc33a1-1721-4385-c941-13a235c56fb6"
      },
      "execution_count": null,
      "outputs": [
        {
          "output_type": "stream",
          "name": "stdout",
          "text": [
            "enter a number15\n",
            "enter lower limit10\n",
            "enter upper limit25\n",
            "15.0 is in the range\n"
          ]
        }
      ]
    },
    {
      "cell_type": "markdown",
      "source": [
        "10. Create a Python program that determines the grade of a student based on their score using\n",
        "if-else"
      ],
      "metadata": {
        "id": "IqiQY8-8wrlp"
      }
    },
    {
      "cell_type": "code",
      "source": [
        "score=int(input(\"enter the score\"))\n",
        "if score>90:\n",
        "  print(\"student score A+ grade\")\n",
        "elif score>80:\n",
        "  print(\"student score A grade\")\n",
        "elif 50<score<80:\n",
        "  print(\"student score B grade\")\n",
        "else:\n",
        "  print(\"student score C grade\")"
      ],
      "metadata": {
        "colab": {
          "base_uri": "https://localhost:8080/"
        },
        "id": "IADjRadLwvW9",
        "outputId": "f710c150-99e1-4fce-d616-ae26d56f1766"
      },
      "execution_count": null,
      "outputs": [
        {
          "output_type": "stream",
          "name": "stdout",
          "text": [
            "enter the score82\n",
            "student score A grade\n"
          ]
        }
      ]
    },
    {
      "cell_type": "markdown",
      "source": [
        "11. Write a Python program to check if a string is empty or not using if-else"
      ],
      "metadata": {
        "id": "1xJyPMaxxG1g"
      }
    },
    {
      "cell_type": "code",
      "source": [
        "string=input(\"enter a string\")\n",
        "if len(string)==0:\n",
        "  print(\"string is empty\")\n",
        "else:\n",
        "  print(\"string is not empty\")"
      ],
      "metadata": {
        "id": "tvs3p3jlxKUC",
        "colab": {
          "base_uri": "https://localhost:8080/"
        },
        "outputId": "424fd1d0-2640-4fda-aa47-bc3d3dbf84ab"
      },
      "execution_count": null,
      "outputs": [
        {
          "output_type": "stream",
          "name": "stdout",
          "text": [
            "enter a stringanshika\n",
            "string is not empty\n"
          ]
        }
      ]
    },
    {
      "cell_type": "markdown",
      "source": [
        "12. Create a Python program that identifies the type of a triangle (e.g., equilateral, isosceles, or\n",
        "scalene) based on input values using if-else."
      ],
      "metadata": {
        "id": "H2G_BpHExQyA"
      }
    },
    {
      "cell_type": "code",
      "source": [
        "a=float(input(\"enter the length of the side of triangle\"))\n",
        "b=float(input(\"enter the length of the side of triangle\"))\n",
        "c=float(input(\"enter the length of the side of triangle\"))\n",
        "if a==b==c:\n",
        "  print('equilateral triangle')\n",
        "elif a==b or a==c or b==c:\n",
        "  print(\"isosceles triangle\")\n",
        "else:\n",
        "  print(\"scalene triangle\")"
      ],
      "metadata": {
        "colab": {
          "base_uri": "https://localhost:8080/"
        },
        "id": "bwvOpOy7xUfH",
        "outputId": "d0bca4c8-1a0e-4245-de9d-1f8e6f91e701"
      },
      "execution_count": null,
      "outputs": [
        {
          "output_type": "stream",
          "name": "stdout",
          "text": [
            "enter the length of the side of triangle15\n",
            "enter the length of the side of triangle25\n",
            "enter the length of the side of triangle15\n",
            "isosceles triangle\n"
          ]
        }
      ]
    },
    {
      "cell_type": "markdown",
      "source": [
        "13. Write a Python program to determine the day of the week based on a user-provided number\n",
        "using if-else.\n"
      ],
      "metadata": {
        "id": "PROeoe5WxfRG"
      }
    },
    {
      "cell_type": "code",
      "source": [
        "def determine_day_of_week(day_number):\n",
        "    # Check if the day_number is within a valid range\n",
        "    if 1 <= day_number <= 7:\n",
        "        # Map the day number to the corresponding day of the week\n",
        "        if day_number == 1:\n",
        "            day = \"Monday\"\n",
        "        elif day_number == 2:\n",
        "            day = \"Tuesday\"\n",
        "        elif day_number == 3:\n",
        "            day = \"Wednesday\"\n",
        "        elif day_number == 4:\n",
        "            day = \"Thursday\"\n",
        "        elif day_number == 5:\n",
        "            day = \"Friday\"\n",
        "        elif day_number == 6:\n",
        "            day = \"Saturday\"\n",
        "        else:\n",
        "            day = \"Sunday\"\n",
        "\n",
        "        print(f\"The day corresponding to {day_number} is {day}\")\n",
        "    else:\n",
        "        print(\"Invalid day number. Please enter a number between 1 and 7.\")\n",
        "\n",
        "# Test the function\n",
        "user_input = int(input(\"Enter a number (1-7) to determine the day of the week: \"))\n",
        "determine_day_of_week(user_input)\n"
      ],
      "metadata": {
        "colab": {
          "base_uri": "https://localhost:8080/"
        },
        "id": "eBT6pM3aTPZd",
        "outputId": "b07a2267-9cf5-4caf-a753-47c3e7378903"
      },
      "execution_count": null,
      "outputs": [
        {
          "output_type": "stream",
          "name": "stdout",
          "text": [
            "Enter a number (1-7) to determine the day of the week: 5\n",
            "The day corresponding to 5 is Friday\n"
          ]
        }
      ]
    },
    {
      "cell_type": "markdown",
      "source": [
        "14. Create a Python program that checks if a given year is a leap year using both if-else and a\n",
        "function"
      ],
      "metadata": {
        "id": "tTZfKdlVxwwq"
      }
    },
    {
      "cell_type": "code",
      "source": [
        "year=int(input(\"enter a year\"))\n",
        "if year %4==0:\n",
        "  print(\"this is a leap year\")\n",
        "else:\n",
        "  print(\"this is not a leap year\")\n"
      ],
      "metadata": {
        "colab": {
          "base_uri": "https://localhost:8080/"
        },
        "id": "foaAz9P61Hch",
        "outputId": "4fa44414-c5e6-483f-f3e9-822961376e63"
      },
      "execution_count": null,
      "outputs": [
        {
          "output_type": "stream",
          "name": "stdout",
          "text": [
            "enter a year1568\n",
            "this is a leap year\n"
          ]
        }
      ]
    },
    {
      "cell_type": "markdown",
      "source": [
        "15. How do you use the \"assert\" statement in Python to add debugging checks within if-else blocks?\n"
      ],
      "metadata": {
        "id": "aOt_1P5e11fU"
      }
    },
    {
      "cell_type": "code",
      "source": [
        "##The assert statement in Python is used for debugging purposes. It tests a condition, and triggers an error if the condition is not true.\n",
        "def abs(n):\n",
        "  if n>=0:\n",
        "    absolute_value= n\n",
        "  else:\n",
        "    absolute_value= -n\n",
        "  assert  absolute_value >=0\n",
        "  return absolute_value\n",
        "\n",
        "n=float(input(\"enter a value\"))\n",
        "result=abs(n)\n",
        "print(\"the absolute value of n is\",result)"
      ],
      "metadata": {
        "id": "_GhwdIfP12PF",
        "colab": {
          "base_uri": "https://localhost:8080/"
        },
        "outputId": "5a61e2bb-ce2a-47db-d591-517e16519988"
      },
      "execution_count": null,
      "outputs": [
        {
          "output_type": "stream",
          "name": "stdout",
          "text": [
            "enter a value-15\n",
            "the absolute value of n is 15.0\n"
          ]
        }
      ]
    },
    {
      "cell_type": "markdown",
      "source": [
        "16. Create a Python program that determines the eligibility of a person for a senior citizen discount\n",
        "based on age using if-else"
      ],
      "metadata": {
        "id": "wEI6sED6y67x"
      }
    },
    {
      "cell_type": "code",
      "source": [
        "age=int(input(\"enter age\"))\n",
        "senior_citizen_age = 60\n",
        "def discount(age):\n",
        "  if age >=  senior_citizen_age:\n",
        "    print(\"you are able for senior citizen discount\")\n",
        "  else:\n",
        "    print(\"Sorry,you are not able for discount\")\n",
        "discount(age)\n"
      ],
      "metadata": {
        "id": "3TmSdIAfy70z",
        "colab": {
          "base_uri": "https://localhost:8080/"
        },
        "outputId": "eb7aab65-a9d0-40ce-ef92-04ba59cb10d9"
      },
      "execution_count": null,
      "outputs": [
        {
          "output_type": "stream",
          "name": "stdout",
          "text": [
            "enter age58\n",
            "Sorry,you are not able for discount\n"
          ]
        }
      ]
    },
    {
      "cell_type": "markdown",
      "source": [
        "17. Write a Python program to categorize a given character as uppercase, lowercase, or neither\n",
        "using if-else"
      ],
      "metadata": {
        "id": "yhbfX6xZy8Zx"
      }
    },
    {
      "cell_type": "code",
      "source": [
        "char=input(\"enter a character\")\n",
        "if char.isupper():\n",
        "  print(\"entered character is uppercase character\")\n",
        "elif char.islower():\n",
        "  print(\"entered character is a lowercase character\")\n",
        "else:\n",
        "  print(\"entered character is a special character\")"
      ],
      "metadata": {
        "colab": {
          "base_uri": "https://localhost:8080/"
        },
        "id": "B5LgFjrTy_6-",
        "outputId": "cc706aa2-41b3-4cef-8edd-e51705dc690c"
      },
      "execution_count": null,
      "outputs": [
        {
          "output_type": "stream",
          "name": "stdout",
          "text": [
            "enter a character7\n",
            "entered character is a special character\n"
          ]
        }
      ]
    },
    {
      "cell_type": "markdown",
      "source": [
        "18. Write a Python program to determine the roots of a quadratic equation using if-else.\n"
      ],
      "metadata": {
        "id": "_WKGZpB9ztYS"
      }
    },
    {
      "cell_type": "code",
      "source": [
        "import math\n",
        "\n",
        "def find_roots(a, b, c):\n",
        "    # Calculate the discriminant\n",
        "    discriminant = b**2 - 4 * a * c\n",
        "\n",
        "    # Check if the discriminant is non-negative\n",
        "    if discriminant >= 0:\n",
        "        # Calculate the roots\n",
        "        root1 = (-b + math.sqrt(discriminant)) / (2 * a)\n",
        "        root2 = (-b - math.sqrt(discriminant)) / (2 * a)\n",
        "\n",
        "        return root1, root2\n",
        "    else:\n",
        "        # If the discriminant is negative, roots are complex numbers\n",
        "        real_part = -b / (2 * a)\n",
        "        imaginary_part = math.sqrt(abs(discriminant)) / (2 * a)\n",
        "\n",
        "        root1 = complex(real_part, imaginary_part)\n",
        "        root2 = complex(real_part, -imaginary_part)\n",
        "\n",
        "        return root1, root2\n",
        "\n",
        "# Example usage:\n",
        "a = 1\n",
        "b = -3\n",
        "c = 2\n",
        "\n",
        "roots = find_roots(a, b, c)\n",
        "\n",
        "print(f\"The roots of the quadratic equation {a}x^2 + {b}x + {c} = 0 are: {roots}\")\n"
      ],
      "metadata": {
        "id": "u_W1b9UZzuM9",
        "colab": {
          "base_uri": "https://localhost:8080/"
        },
        "outputId": "79e454a0-7ab8-458c-b207-787d9d62a0bf"
      },
      "execution_count": 32,
      "outputs": [
        {
          "output_type": "stream",
          "name": "stdout",
          "text": [
            "The roots of the quadratic equation 1x^2 + -3x + 2 = 0 are: (2.0, 1.0)\n"
          ]
        }
      ]
    },
    {
      "cell_type": "markdown",
      "source": [
        "19. Create a Python program that checks if a given year is a century year or not using if-else"
      ],
      "metadata": {
        "id": "Lf2i2BYqzxqd"
      }
    },
    {
      "cell_type": "code",
      "source": [
        "year=int(input(\"enter a year\"))\n",
        "if year%100==0:\n",
        "  print(\"century year \")\n",
        "else:\n",
        "  print('this is not a century year')"
      ],
      "metadata": {
        "colab": {
          "base_uri": "https://localhost:8080/"
        },
        "id": "XlLnSNwnzyim",
        "outputId": "3f649624-256e-4b93-f034-044004e1909e"
      },
      "execution_count": null,
      "outputs": [
        {
          "output_type": "stream",
          "name": "stdout",
          "text": [
            "enter a year1578\n",
            "this is not a century year\n"
          ]
        }
      ]
    },
    {
      "cell_type": "markdown",
      "source": [
        "20. Write a Python program to determine if a given number is a perfect square using if-else."
      ],
      "metadata": {
        "id": "61BuwYPm0MGb"
      }
    },
    {
      "cell_type": "code",
      "source": [
        "def is_perfect_square(number):\n",
        "\n",
        "    # Ensure the number is non-negative\n",
        "    if number < 0:\n",
        "        return False\n",
        "\n",
        "    # Calculate the square root\n",
        "    square_root = int(number**0.5)\n",
        "\n",
        "    # Check if the square root is an integer\n",
        "    if square_root**2 == number:\n",
        "        return True\n",
        "    else:\n",
        "        return False\n",
        "\n",
        "# Example usage:\n",
        "number_to_check =25\n",
        "if is_perfect_square(number_to_check):\n",
        "    print(f\"{number_to_check} is a perfect square.\")\n",
        "else:\n",
        "    print(f\"{number_to_check} is not a perfect square.\")\n"
      ],
      "metadata": {
        "id": "Tt7pDJRY0M3s",
        "colab": {
          "base_uri": "https://localhost:8080/"
        },
        "outputId": "92da46eb-2b11-4133-b977-73d253f3a539"
      },
      "execution_count": 33,
      "outputs": [
        {
          "output_type": "stream",
          "name": "stdout",
          "text": [
            "25 is a perfect square.\n"
          ]
        }
      ]
    },
    {
      "cell_type": "markdown",
      "source": [
        "21. Explain the purpose of the \"continue\" and \"break\" statements within if-else loops."
      ],
      "metadata": {
        "id": "pHBKUiim0Npf"
      }
    },
    {
      "cell_type": "code",
      "source": [
        "'''The continue statement is used to skip the rest of the code inside a loop for the current iteration and move on to the next iteration'''\n",
        "for i in range(1, 6):\n",
        "    if i == 3:\n",
        "        continue  # Skip iteration when i is 3\n",
        "    print(i)\n",
        "'''The break statement is used to exit a loop'''\n",
        "for i in range(1, 6):\n",
        "    if i == 4:\n",
        "        break  # Exit the loop when i is 4\n",
        "    print(i)\n"
      ],
      "metadata": {
        "colab": {
          "base_uri": "https://localhost:8080/"
        },
        "id": "CBJ3qIk20RlL",
        "outputId": "9901d362-3582-41dc-c345-9dc0a73409c5"
      },
      "execution_count": null,
      "outputs": [
        {
          "output_type": "stream",
          "name": "stdout",
          "text": [
            "1\n",
            "2\n",
            "4\n",
            "5\n",
            "1\n",
            "2\n",
            "3\n"
          ]
        }
      ]
    },
    {
      "cell_type": "markdown",
      "source": [
        "22. Create a Python program that calculates the BMI (Body Mass Index) of a person based on their\n",
        "weight and height using if-else.\n"
      ],
      "metadata": {
        "id": "WK9ZcQI-2HwZ"
      }
    },
    {
      "cell_type": "code",
      "source": [
        "weight=int(input(\"enter your weight\"))\n",
        "height= int(input(\"enter your height\"))\n",
        "BMI=weight/(height**2)\n",
        "if BMI<18.5:\n",
        "  print( \"underweight\")\n",
        "elif 18.5 <= BMI < 24.9:\n",
        "  print( \"normal weight\")\n",
        "elif 25 <= bmi < 29.9:\n",
        "  print(\"overweight\")\n",
        "else:\n",
        "  print(\"obese\")"
      ],
      "metadata": {
        "colab": {
          "base_uri": "https://localhost:8080/"
        },
        "id": "7yAUqMcX2Iin",
        "outputId": "f7edd10f-1c2e-4d53-d3e4-7eea3cd8952a"
      },
      "execution_count": null,
      "outputs": [
        {
          "output_type": "stream",
          "name": "stdout",
          "text": [
            "enter your weight120\n",
            "enter your height152\n",
            "underweight\n"
          ]
        }
      ]
    },
    {
      "cell_type": "markdown",
      "source": [
        "23. How can you use the \"filter()\" function with if-else statements to filter elements from a list?"
      ],
      "metadata": {
        "id": "WvGJ_x9v4Z40"
      }
    },
    {
      "cell_type": "code",
      "source": [
        "\n",
        "##The filter() function in Python is used to filter elements of a sequence based on a function\n",
        "def filter_odd(i):\n",
        "\n",
        "  if i%2!=0:\n",
        "      return True\n",
        "  else:\n",
        "      return False\n",
        "l=[1,2,3,4,5,6,7,8,9]\n",
        "l2=filter(filter_odd,l)\n",
        "filter_list=list(l2)\n",
        "print(filter_list)"
      ],
      "metadata": {
        "id": "uLwURKJN4aja",
        "colab": {
          "base_uri": "https://localhost:8080/"
        },
        "outputId": "765cb4fd-2a66-4d23-cc66-cca4b82f0924"
      },
      "execution_count": null,
      "outputs": [
        {
          "output_type": "stream",
          "name": "stdout",
          "text": [
            "[1, 3, 5, 7, 9]\n"
          ]
        }
      ]
    },
    {
      "cell_type": "markdown",
      "source": [
        "24. Write a Python program to determine if a given number is prime or not using if-else."
      ],
      "metadata": {
        "id": "qkVa7SIb4gGj"
      }
    },
    {
      "cell_type": "code",
      "source": [
        "def is_prime(number):\n",
        "    if number <= 1:\n",
        "        return False  # Numbers less than or equal to 1 are not prime\n",
        "    elif number == 2:\n",
        "        return True   # 2 is a prime number\n",
        "    else:\n",
        "        for i in range(2, int(number**0.5) + 1):\n",
        "            if number % i == 0:\n",
        "                return False  # The number is divisible by i, so it's not prime\n",
        "        return True  # The number is not divisible by any number in the range, so it's prime\n",
        "\n",
        "# Input from the user\n",
        "user_input = int(input(\"Enter a number: \"))\n",
        "\n",
        "# Check if the number is prime and display the result\n",
        "if is_prime(user_input):\n",
        "    print(f\"{user_input} is a prime number.\")\n",
        "else:\n",
        "    print(f\"{user_input} is not a prime number.\")\n"
      ],
      "metadata": {
        "id": "SrIya7H84gxk",
        "colab": {
          "base_uri": "https://localhost:8080/"
        },
        "outputId": "5acbdcc7-048f-474a-8b7f-2cac67b59c39"
      },
      "execution_count": null,
      "outputs": [
        {
          "output_type": "stream",
          "name": "stdout",
          "text": [
            "Enter a number: 45\n",
            "45 is not a prime number.\n"
          ]
        }
      ]
    },
    {
      "cell_type": "markdown",
      "source": [
        "##Map :-\n",
        "\n",
        "---"
      ],
      "metadata": {
        "id": "mbUwZAtyrZPT"
      }
    },
    {
      "cell_type": "markdown",
      "source": [
        "1. Explain the purpose of the `map()` function in Python and provide an example of how it can be\n",
        "used to apply a function to each element of an iterable"
      ],
      "metadata": {
        "id": "UB9wBs3it2LY"
      }
    },
    {
      "cell_type": "code",
      "source": [
        "##The map() function in Python is used to apply a specified function to all the items in an iterable and returns an iterator that produces the results.\n",
        "def square(x):\n",
        "  return x**2\n",
        "x=int(input(\"enter a number\"))\n",
        "print(square(x))"
      ],
      "metadata": {
        "colab": {
          "base_uri": "https://localhost:8080/"
        },
        "id": "wuOZnUVpt1S_",
        "outputId": "3b4b8ab7-4e7f-402d-fe97-08f73f17be54"
      },
      "execution_count": null,
      "outputs": [
        {
          "output_type": "stream",
          "name": "stdout",
          "text": [
            "enter a number5\n",
            "25\n"
          ]
        }
      ]
    },
    {
      "cell_type": "markdown",
      "source": [
        "2. Write a Python program that uses the `map()` function to square each element of a list of\n",
        "numbers.\n"
      ],
      "metadata": {
        "id": "lF0rs0dizuxF"
      }
    },
    {
      "cell_type": "code",
      "source": [
        "l=[1,2,3,4,5,6,7]\n",
        "def square(i):\n",
        "  return i**2\n",
        "l2=list(map(lambda i:square(i),l))\n",
        "print(l2)"
      ],
      "metadata": {
        "id": "krGmO4aLyyvJ",
        "colab": {
          "base_uri": "https://localhost:8080/"
        },
        "outputId": "dd2ea7f5-2ab0-43fb-e9b1-8f42f512e19a"
      },
      "execution_count": null,
      "outputs": [
        {
          "output_type": "stream",
          "name": "stdout",
          "text": [
            "[1, 4, 9, 16, 25, 36, 49]\n"
          ]
        }
      ]
    },
    {
      "cell_type": "markdown",
      "source": [
        "3. How does the `map()` function differ from a list comprehension in Python, and when would you\n",
        "choose one over the other?\n"
      ],
      "metadata": {
        "id": "R7TVkzwq5D1E"
      }
    },
    {
      "cell_type": "code",
      "source": [
        "### map=: It applies the specified function to all items in the given iterable(s) and returns an iterator that produces the results.\n",
        "###list comperehension=It provides a more concise and readable way to create lists. You can include an optional condition to filter the items\n",
        "###When to Choose One Over the Other:\n",
        "##Readability: List comprehensions are often considered more readable and concise, especially for simple operations"
      ],
      "metadata": {
        "id": "9dcl7W_j2joR"
      },
      "execution_count": null,
      "outputs": []
    },
    {
      "cell_type": "markdown",
      "source": [
        "4. Create a Python program that uses the `map()` function to convert a list of names to uppercase"
      ],
      "metadata": {
        "id": "BMa0aNzS6OEt"
      }
    },
    {
      "cell_type": "code",
      "source": [
        "l=[\"anshi\",\"anshu\",\"ashu\"]\n",
        "def upper(x):\n",
        "  return x.upper()\n",
        "l2=list(map(lambda x:upper(x),l))\n",
        "print(l2)"
      ],
      "metadata": {
        "colab": {
          "base_uri": "https://localhost:8080/"
        },
        "id": "CsqZyM_f6M_k",
        "outputId": "7ac73321-251d-463f-9d83-59ec19decb47"
      },
      "execution_count": null,
      "outputs": [
        {
          "output_type": "stream",
          "name": "stdout",
          "text": [
            "['ANSHI', 'ANSHU', 'ASHU']\n"
          ]
        }
      ]
    },
    {
      "cell_type": "markdown",
      "source": [
        "5. Write a Python program that uses the `map()` function to calculate the length of each word in a\n",
        "list of strings"
      ],
      "metadata": {
        "id": "ffheZcrF7L7c"
      }
    },
    {
      "cell_type": "code",
      "source": [
        "l=[\"anshi\",\"anshu\",\"ashu\"]\n",
        "def length(x):\n",
        "  return len(x)\n",
        "l2=list(map(lambda x:length(x),l))\n",
        "print(l2)"
      ],
      "metadata": {
        "colab": {
          "base_uri": "https://localhost:8080/"
        },
        "id": "fA2sXlbK63NJ",
        "outputId": "816255be-f1d6-4896-ab32-8572baca10b9"
      },
      "execution_count": null,
      "outputs": [
        {
          "output_type": "stream",
          "name": "stdout",
          "text": [
            "[5, 5, 4]\n"
          ]
        }
      ]
    },
    {
      "cell_type": "markdown",
      "source": [
        "6. How can you use the `map()` function to apply a custom function to elements of multiple lists\n",
        "simultaneously in Python?\n"
      ],
      "metadata": {
        "id": "4cpg4cnX7_WY"
      }
    },
    {
      "cell_type": "code",
      "source": [
        "num=[1,2,3,4,5]\n",
        "square=[2,4,9,16,25]\n",
        "def add(a,b):\n",
        "  return a+b\n",
        "l=list(map(add,num,square))\n",
        "print(l)\n"
      ],
      "metadata": {
        "colab": {
          "base_uri": "https://localhost:8080/"
        },
        "id": "RzO9Xdm-79o9",
        "outputId": "c6d04d16-eb73-41d5-b9ac-3a1dfa14f1a2"
      },
      "execution_count": null,
      "outputs": [
        {
          "output_type": "stream",
          "name": "stdout",
          "text": [
            "[3, 6, 12, 20, 30]\n"
          ]
        }
      ]
    },
    {
      "cell_type": "markdown",
      "source": [
        "7. Create a Python program that uses `map()` to convert a list of temperatures from Celsius to\n",
        "Fahrenheit.\n"
      ],
      "metadata": {
        "id": "Cs2Uq9jX8_1B"
      }
    },
    {
      "cell_type": "code",
      "source": [
        "celsius_input=(input(\"enter a list\"))\n",
        "celsius_list=[int(x) for x in celsius_input.split(',')]\n",
        "def tem(celsius):\n",
        "  return  (celsius * 9/5) + 32\n",
        "l=list(map(tem,celsius_list))\n",
        "print(l)"
      ],
      "metadata": {
        "colab": {
          "base_uri": "https://localhost:8080/"
        },
        "id": "TC509zMe8036",
        "outputId": "099a1491-8cd2-4d34-a78b-971ddbb81b96"
      },
      "execution_count": null,
      "outputs": [
        {
          "output_type": "stream",
          "name": "stdout",
          "text": [
            "enter a list25,96,58,45,15\n",
            "[77.0, 204.8, 136.4, 113.0, 59.0]\n"
          ]
        }
      ]
    },
    {
      "cell_type": "markdown",
      "source": [
        "8. Write a Python program that uses the `map()` function to round each element of a list of\n",
        "floating-point numbers to the nearest integer.\n"
      ],
      "metadata": {
        "id": "kXP9lF7aGH0V"
      }
    },
    {
      "cell_type": "code",
      "source": [
        "# Input list of floating-point numbers\n",
        "float_numbers = [1.5, 2.7, 3.3, 4.8, 5.2]\n",
        "\n",
        "# Function to round each element to the nearest integer\n",
        "def round_to_nearest_integer(number):\n",
        "    return round(number)\n",
        "\n",
        "# Use map() to apply the rounding function to each element of the list\n",
        "rounded_integers = list(map(round_to_nearest_integer, float_numbers))\n",
        "\n",
        "# Print the result\n",
        "print(f\"Original floating-point numbers: {float_numbers}\")\n",
        "print(f\"Rounded integers: {rounded_integers}\")\n"
      ],
      "metadata": {
        "id": "gTIe1k9n-nSO",
        "colab": {
          "base_uri": "https://localhost:8080/"
        },
        "outputId": "15f0646c-81e2-4544-aa87-14c660eebad6"
      },
      "execution_count": null,
      "outputs": [
        {
          "output_type": "stream",
          "name": "stdout",
          "text": [
            "Original floating-point numbers: [1.5, 2.7, 3.3, 4.8, 5.2]\n",
            "Rounded integers: [2, 3, 3, 5, 5]\n"
          ]
        }
      ]
    },
    {
      "cell_type": "markdown",
      "source": [
        "##Reduce :-\n",
        "---"
      ],
      "metadata": {
        "id": "7wkbCr8ZXRYa"
      }
    },
    {
      "cell_type": "markdown",
      "source": [
        "1. What is the `reduce()` function in Python, and what module should you import to use it? Provide\n",
        "an example of its basic usage"
      ],
      "metadata": {
        "id": "OgIlgUhFXX_L"
      }
    },
    {
      "cell_type": "code",
      "source": [
        "## reduce function reduces the iterable to a single result.to use reduce function \"functools\" is imported.\n",
        "from functools import reduce\n",
        "l=[1,2,3,4,5,6,7,8,9]\n",
        "def add(a,b):\n",
        "  return a+b\n",
        "result = reduce(add,l)\n",
        "\n",
        "print(result)"
      ],
      "metadata": {
        "id": "P1NjsR58Iyj5",
        "colab": {
          "base_uri": "https://localhost:8080/"
        },
        "outputId": "ab0e1277-720e-4fb4-c44b-e8db62f8d7b1"
      },
      "execution_count": null,
      "outputs": [
        {
          "output_type": "stream",
          "name": "stdout",
          "text": [
            "45\n"
          ]
        }
      ]
    },
    {
      "cell_type": "markdown",
      "source": [
        "2. Write a Python program that uses the `reduce()` function to find the product of all elements in a\n",
        "list.\n"
      ],
      "metadata": {
        "id": "zPQf36uWY7LQ"
      }
    },
    {
      "cell_type": "code",
      "source": [
        "l=[1,2,3,4,5]\n",
        "def product(a,b):\n",
        "  return a*b\n",
        "result = reduce(product,l)\n",
        "\n",
        "print(result)"
      ],
      "metadata": {
        "colab": {
          "base_uri": "https://localhost:8080/"
        },
        "id": "2j0rCEDFYsIa",
        "outputId": "846769bb-8e6e-48ea-d80c-e96a2c5d801c"
      },
      "execution_count": null,
      "outputs": [
        {
          "output_type": "stream",
          "name": "stdout",
          "text": [
            "120\n"
          ]
        }
      ]
    },
    {
      "cell_type": "markdown",
      "source": [
        "3. Create a Python program that uses `reduce()` to find the maximum element in a list of numbers.\n"
      ],
      "metadata": {
        "id": "x6B77T5WZZH5"
      }
    },
    {
      "cell_type": "code",
      "source": [
        "l=[1,2,3,4,5]\n",
        "def maximum(a,b):\n",
        "  if a>b:\n",
        "    return a\n",
        "  else:\n",
        "    return b\n",
        "result = reduce(maximum,l)\n",
        "print(result)"
      ],
      "metadata": {
        "colab": {
          "base_uri": "https://localhost:8080/"
        },
        "id": "KU-F6aohZWtU",
        "outputId": "dcf49713-5999-421b-9574-d570dada4a77"
      },
      "execution_count": null,
      "outputs": [
        {
          "output_type": "stream",
          "name": "stdout",
          "text": [
            "5\n"
          ]
        }
      ]
    },
    {
      "cell_type": "markdown",
      "source": [
        "4. How can you use the `reduce()` function to concatenate a list of strings into a single string?"
      ],
      "metadata": {
        "id": "_yrPxrO2bJI5"
      }
    },
    {
      "cell_type": "code",
      "source": [
        "l=[\"today\",\"is\",\"sunday\"]\n",
        "def join(a,b):\n",
        "  return a+\" \"+b\n",
        "result=reduce(join,l)\n",
        "print(result)"
      ],
      "metadata": {
        "colab": {
          "base_uri": "https://localhost:8080/"
        },
        "id": "QgUfNJvnZcV1",
        "outputId": "f8f112a2-6459-49a1-aa26-41e3db592b02"
      },
      "execution_count": null,
      "outputs": [
        {
          "output_type": "stream",
          "name": "stdout",
          "text": [
            "today is sunday\n"
          ]
        }
      ]
    },
    {
      "cell_type": "markdown",
      "source": [
        "5. Write a Python program that calculates the factorial of a number using the `reduce()` function."
      ],
      "metadata": {
        "id": "J1BWbJbBcMAi"
      }
    },
    {
      "cell_type": "code",
      "source": [
        "n=int(input(\"enter a number\"))\n",
        "def fac(n):\n",
        "  return reduce(lambda x,y:x*y , range(1,n+1),1)\n",
        "print(fac(n))"
      ],
      "metadata": {
        "colab": {
          "base_uri": "https://localhost:8080/"
        },
        "id": "giX8-HU0cCIm",
        "outputId": "f33a4959-cf80-4029-ceff-c0bc9f5e9922"
      },
      "execution_count": null,
      "outputs": [
        {
          "output_type": "stream",
          "name": "stdout",
          "text": [
            "enter a number5\n",
            "120\n"
          ]
        }
      ]
    },
    {
      "cell_type": "markdown",
      "source": [
        "6. Create a Python program that uses `reduce()` to find the GCD (Greatest Common Divisor) of a list\n",
        "of numbers"
      ],
      "metadata": {
        "id": "vcCCmXX8eJ1o"
      }
    },
    {
      "cell_type": "code",
      "source": [
        "l=[1,2,3,4,5]\n",
        "def gcd(a,b):\n",
        "  while b:\n",
        "    a,b=b,a%b\n",
        "  return a\n",
        "\n",
        "result= reduce(gcd,l)\n",
        "print(result)\n"
      ],
      "metadata": {
        "colab": {
          "base_uri": "https://localhost:8080/"
        },
        "id": "wzvf7qCqcpqf",
        "outputId": "bc6c6e3d-60f7-4d0d-e164-bab7faffb585"
      },
      "execution_count": null,
      "outputs": [
        {
          "output_type": "stream",
          "name": "stdout",
          "text": [
            "1\n"
          ]
        }
      ]
    },
    {
      "cell_type": "markdown",
      "source": [
        "7. Write a Python program that uses the `reduce()` function to find the sum of the digits of a given\n",
        "number.\n"
      ],
      "metadata": {
        "id": "tms26XtyfrsH"
      }
    },
    {
      "cell_type": "code",
      "source": [
        "from functools  import reduce\n",
        "def sum(n):\n",
        "  digits=[int(digit) for digit in str(n)]\n",
        "\n",
        "  return reduce(lambda a,b:a+b,digits,0)\n",
        "n=12345\n",
        "print(sum(n))"
      ],
      "metadata": {
        "colab": {
          "base_uri": "https://localhost:8080/"
        },
        "id": "8F-qJdAkezQe",
        "outputId": "52a07695-a526-4cb9-95ed-655483cdfb05"
      },
      "execution_count": null,
      "outputs": [
        {
          "output_type": "stream",
          "name": "stdout",
          "text": [
            "15\n"
          ]
        }
      ]
    },
    {
      "cell_type": "markdown",
      "source": [
        "##Filter :-\n",
        "---"
      ],
      "metadata": {
        "id": "QI4QzjZjl9_a"
      }
    },
    {
      "cell_type": "markdown",
      "source": [
        "1. Explain the purpose of the `filter()` function in Python and provide an example of how it can be\n",
        "used to filter elements from an iterable."
      ],
      "metadata": {
        "id": "Nk0DANXqmE8T"
      }
    },
    {
      "cell_type": "code",
      "source": [
        "\n",
        "###The filter() function in Python is used to filter elements from an iterable (such as a list) based on a specified condition\n",
        "l=[1,2,3,4,5,6]\n",
        "def even(n):\n",
        "  return n % 2==0\n",
        "l1=list(filter(even,l))\n",
        "print(l1)"
      ],
      "metadata": {
        "colab": {
          "base_uri": "https://localhost:8080/"
        },
        "id": "7N3SFmPJg_Mr",
        "outputId": "5577ea30-c079-4a83-a357-8f2777461b2f"
      },
      "execution_count": null,
      "outputs": [
        {
          "output_type": "stream",
          "name": "stdout",
          "text": [
            "[2, 4, 6]\n"
          ]
        }
      ]
    },
    {
      "cell_type": "markdown",
      "source": [
        "2. Write a Python program that uses the `filter()` function to select even numbers from a list of\n",
        "integers."
      ],
      "metadata": {
        "id": "cKbnsKnURlaT"
      }
    },
    {
      "cell_type": "code",
      "source": [
        "l=[1,2,3,4,5,6]\n",
        "def even(n):\n",
        "  return n % 2==0\n",
        "l1=list(filter(even,l))\n",
        "print(l1)"
      ],
      "metadata": {
        "id": "aoZ-5JsRutZu",
        "colab": {
          "base_uri": "https://localhost:8080/"
        },
        "outputId": "57f02ca3-8f2c-4ea2-a9e1-f2e8c49db14b"
      },
      "execution_count": null,
      "outputs": [
        {
          "output_type": "stream",
          "name": "stdout",
          "text": [
            "[2, 4, 6]\n"
          ]
        }
      ]
    },
    {
      "cell_type": "markdown",
      "source": [
        "3. Create a Python program that uses the `filter()` function to select names that start with a specific\n",
        "letter from a list of strings.\n"
      ],
      "metadata": {
        "id": "cfePAR1lRt0f"
      }
    },
    {
      "cell_type": "code",
      "source": [
        "s=[\"anshi\",\"ashu\",\"pwskills\",\"datascience\"]\n",
        "def name(n):\n",
        "  return n[0]==\"a\"\n",
        "s1=list(filter(name,s))\n",
        "print(s1)"
      ],
      "metadata": {
        "colab": {
          "base_uri": "https://localhost:8080/"
        },
        "id": "Bxg99wVzRsed",
        "outputId": "246b5085-b9fc-4b2c-dc5f-c220d19d32e1"
      },
      "execution_count": null,
      "outputs": [
        {
          "output_type": "stream",
          "name": "stdout",
          "text": [
            "['anshi', 'ashu']\n"
          ]
        }
      ]
    },
    {
      "cell_type": "markdown",
      "source": [
        "4. Write a Python program that uses the `filter()` function to select prime numbers from a list of\n",
        "integers"
      ],
      "metadata": {
        "id": "wYrqj8cXTU6v"
      }
    },
    {
      "cell_type": "code",
      "source": [
        "def is_prime(n):\n",
        "    if n < 2:\n",
        "        return False\n",
        "    for i in range(2, int(n**0.5) + 1):\n",
        "        if n % i == 0:\n",
        "            return False\n",
        "    return True\n",
        "\n",
        "# Example list of integers\n",
        "numbers = [1, 2, 3, 4, 5, 6, 7, 8, 9, 10, 11, 12, 13, 14, 15]\n",
        "\n",
        "# Use filter() to select prime numbers\n",
        "prime_numbers = list(filter(is_prime, numbers))\n",
        "\n",
        "# Print the result\n",
        "print(\"Original list:\", numbers)\n",
        "print(\"Prime numbers:\", prime_numbers)\n"
      ],
      "metadata": {
        "colab": {
          "base_uri": "https://localhost:8080/"
        },
        "id": "750bgFPzSUyo",
        "outputId": "c17e789e-f8e3-4d3c-ff5b-618c1addab08"
      },
      "execution_count": null,
      "outputs": [
        {
          "output_type": "stream",
          "name": "stdout",
          "text": [
            "Original list: [1, 2, 3, 4, 5, 6, 7, 8, 9, 10, 11, 12, 13, 14, 15]\n",
            "Prime numbers: [2, 3, 5, 7, 11, 13]\n"
          ]
        }
      ]
    },
    {
      "cell_type": "markdown",
      "source": [
        "5. How can you use the `filter()` function to remove None values from a list in Python?"
      ],
      "metadata": {
        "id": "3OlT7wT4Ucmt"
      }
    },
    {
      "cell_type": "code",
      "source": [
        "# Example list with None values\n",
        "my_list = [1, None, 3, 4, None, 6, None, 8]\n",
        "\n",
        "# Use filter() to remove None values\n",
        "filtered_list = list(filter(None, my_list))\n",
        "\n",
        "# Print the result\n",
        "print(\"Original list:\", my_list)\n",
        "print(\"List without None values:\", filtered_list)\n"
      ],
      "metadata": {
        "colab": {
          "base_uri": "https://localhost:8080/"
        },
        "id": "yTFzZk7WTX5F",
        "outputId": "d35114f3-bde9-4a05-eef0-47fa87882185"
      },
      "execution_count": null,
      "outputs": [
        {
          "output_type": "stream",
          "name": "stdout",
          "text": [
            "Original list: [1, None, 3, 4, None, 6, None, 8]\n",
            "List without None values: [1, 3, 4, 6, 8]\n"
          ]
        }
      ]
    },
    {
      "cell_type": "markdown",
      "source": [
        "6. Create a Python program that uses `filter()` to select words longer than a certain length from a\n",
        "list of strings"
      ],
      "metadata": {
        "id": "PlKSJGr9U_va"
      }
    },
    {
      "cell_type": "code",
      "source": [
        "l=[\"data\",\"science\",\"anshi\",\"python\",\"machinelearning\"]\n",
        "n=5\n",
        "def words(i):\n",
        "  return len(i)>n\n",
        "l1=list(filter(words,l))\n",
        "print(l1)"
      ],
      "metadata": {
        "colab": {
          "base_uri": "https://localhost:8080/"
        },
        "id": "56D_mIndUlRY",
        "outputId": "b54a0119-4d5b-41eb-f1ee-194343840463"
      },
      "execution_count": null,
      "outputs": [
        {
          "output_type": "stream",
          "name": "stdout",
          "text": [
            "['science', 'python', 'machinelearning']\n"
          ]
        }
      ]
    },
    {
      "cell_type": "markdown",
      "source": [
        "7. Write a Python program that uses the `filter()` function to select elements greater than a\n",
        "specified threshold from a list of values"
      ],
      "metadata": {
        "id": "36FQGd4jWR2-"
      }
    },
    {
      "cell_type": "code",
      "source": [
        "l=[1,2,3,4,5,6,7,8,9]\n",
        "n=5\n",
        "def num(i):\n",
        "  return i>5\n",
        "l1=list(filter(num,l))\n",
        "print(l1)\n",
        "\n"
      ],
      "metadata": {
        "colab": {
          "base_uri": "https://localhost:8080/"
        },
        "id": "p0TclmdLVAj4",
        "outputId": "25d3b16c-e1e8-40a5-fb19-cccd36a2b232"
      },
      "execution_count": null,
      "outputs": [
        {
          "output_type": "stream",
          "name": "stdout",
          "text": [
            "[6, 7, 8, 9]\n"
          ]
        }
      ]
    },
    {
      "cell_type": "markdown",
      "source": [
        "##Recursion:-\n"
      ],
      "metadata": {
        "id": "HgwbHdQ1e4oX"
      }
    },
    {
      "cell_type": "markdown",
      "source": [
        "1. Explain the concept of recursion in Python. How does it differ from iteration?\n"
      ],
      "metadata": {
        "id": "DCjLYT-ofIqr"
      }
    },
    {
      "cell_type": "code",
      "source": [
        "##Recursion is a programming concept where a function calls itself.\n",
        "## recursion works in three stages 1. base case 2.logic 3.recursive call whereas in iteration loop  conditions are used to start and stop the conditions."
      ],
      "metadata": {
        "id": "ByVJBcgTWSsK"
      },
      "execution_count": null,
      "outputs": []
    },
    {
      "cell_type": "markdown",
      "source": [
        "2. Write a Python program to calculate the factorial of a number using recursion."
      ],
      "metadata": {
        "id": "jGva2o2MHxCF"
      }
    },
    {
      "cell_type": "code",
      "source": [
        "def fact(n):\n",
        "  if n<1:\n",
        "    return 1\n",
        "  else:\n",
        "    return n* fact(n-1)\n",
        "n=5\n",
        "print(fact(n))"
      ],
      "metadata": {
        "colab": {
          "base_uri": "https://localhost:8080/"
        },
        "id": "nX0jju48HyHV",
        "outputId": "88af3243-1729-4d4b-dcf4-1aa00d5c739d"
      },
      "execution_count": null,
      "outputs": [
        {
          "output_type": "stream",
          "name": "stdout",
          "text": [
            "120\n"
          ]
        }
      ]
    },
    {
      "cell_type": "markdown",
      "source": [
        "3. Create a recursive Python function to find the nth Fibonacci number.\n"
      ],
      "metadata": {
        "id": "tyVI3DR1IziJ"
      }
    },
    {
      "cell_type": "code",
      "source": [
        "def fib(n):\n",
        "  if n ==0:\n",
        "    print(\"invalid input\")\n",
        "  elif n==1:\n",
        "    return 0\n",
        "  elif n==2:\n",
        "    return 1\n",
        "  else:\n",
        "    return fib(n-1) +fib(n-2)\n",
        "n=10\n",
        "print(fib(n))"
      ],
      "metadata": {
        "colab": {
          "base_uri": "https://localhost:8080/"
        },
        "id": "4Rzg7aBqIKlO",
        "outputId": "c43518fb-62d3-4fab-f00d-eaea9f96526f"
      },
      "execution_count": null,
      "outputs": [
        {
          "output_type": "stream",
          "name": "stdout",
          "text": [
            "34\n"
          ]
        }
      ]
    },
    {
      "cell_type": "markdown",
      "source": [
        "4. Write a recursive Python function to calculate the sum of all elements in a list.\n"
      ],
      "metadata": {
        "id": "xGfL2xsRKyaf"
      }
    },
    {
      "cell_type": "code",
      "source": [
        "def sum_num(l):\n",
        "  if not l:\n",
        "    return 0\n",
        "  else:\n",
        "    return l[0]+ sum_num(l[1:])\n",
        "l=[1,2,3,4,5,6]\n",
        "print(sum_num(l))"
      ],
      "metadata": {
        "colab": {
          "base_uri": "https://localhost:8080/"
        },
        "id": "NP7CDzRvI2mC",
        "outputId": "3367ffdf-714f-4d4d-8cef-ac5ca4abc0b0"
      },
      "execution_count": null,
      "outputs": [
        {
          "output_type": "stream",
          "name": "stdout",
          "text": [
            "21\n"
          ]
        }
      ]
    },
    {
      "cell_type": "markdown",
      "source": [
        "5. How can you prevent a recursive function from running indefinitely, causing a stack overflow\n",
        "error?\n"
      ],
      "metadata": {
        "id": "inbgTNqrNlRC"
      }
    },
    {
      "cell_type": "code",
      "source": [
        "##To prevent a recursive function from running indefinitely and causing a stack overflow error, you should include a base case that ensures the recursion stops at some point"
      ],
      "metadata": {
        "id": "YN2K2O8NK1Zr"
      },
      "execution_count": null,
      "outputs": []
    },
    {
      "cell_type": "markdown",
      "source": [
        "6. Create a recursive Python function to find the greatest common divisor (GCD) of two numbers\n",
        "using the Euclidean algorithm.\n"
      ],
      "metadata": {
        "id": "iaNHLl5mOfSo"
      }
    },
    {
      "cell_type": "code",
      "source": [
        "def gcd(a, b):\n",
        "    if b == 0:\n",
        "        return a\n",
        "    else:\n",
        "        return gcd(b, a % b)\n",
        "a,b=5,35\n",
        "\n",
        "print(gcd(a,b))"
      ],
      "metadata": {
        "colab": {
          "base_uri": "https://localhost:8080/"
        },
        "id": "ZN5vyi-iN5zi",
        "outputId": "ae176a21-dda0-4759-ee26-6fa077107d78"
      },
      "execution_count": null,
      "outputs": [
        {
          "output_type": "stream",
          "name": "stdout",
          "text": [
            "5\n"
          ]
        }
      ]
    },
    {
      "cell_type": "markdown",
      "source": [
        "7. Write a recursive Python function to reverse a string.\n"
      ],
      "metadata": {
        "id": "JmXcjCreRI5o"
      }
    },
    {
      "cell_type": "code",
      "source": [
        "def rev(s):\n",
        "  if len(s)<=1:\n",
        "    return s\n",
        "  else:\n",
        "    return s[-1] + rev(s[:-1])\n",
        "s=\"anshika\"\n",
        "print(rev(s))"
      ],
      "metadata": {
        "colab": {
          "base_uri": "https://localhost:8080/"
        },
        "id": "9rEK6SX5OgFD",
        "outputId": "9fb74838-5d97-4fd6-91c1-e175ea230bf8"
      },
      "execution_count": null,
      "outputs": [
        {
          "output_type": "stream",
          "name": "stdout",
          "text": [
            "akihsna\n"
          ]
        }
      ]
    },
    {
      "cell_type": "markdown",
      "source": [
        "8. Create a recursive Python function to calculate the power of a number (x^n).\n",
        "\n"
      ],
      "metadata": {
        "id": "DSE2oyPwT7SL"
      }
    },
    {
      "cell_type": "code",
      "source": [
        "def power(n):\n",
        "  if n==0:\n",
        "    return 1\n",
        "  else:\n",
        "    return x *power(x^(n-1))\n",
        "n=5\n",
        "x=2\n",
        "print(power(x^n))"
      ],
      "metadata": {
        "colab": {
          "base_uri": "https://localhost:8080/"
        },
        "id": "bchhj0sxSzFn",
        "outputId": "f9c93e47-a153-41d5-a0ce-689fb6cf9c1e"
      },
      "execution_count": null,
      "outputs": [
        {
          "output_type": "stream",
          "name": "stdout",
          "text": [
            "32\n"
          ]
        }
      ]
    },
    {
      "cell_type": "markdown",
      "source": [
        "9. Write a recursive Python function to find all permutations of a given string"
      ],
      "metadata": {
        "id": "mOvsNZvQsEcE"
      }
    },
    {
      "cell_type": "code",
      "source": [
        "def permutations(a):\n",
        "  if a<=1:\n",
        "    return 1\n",
        "  else:\n",
        "    return a * permutations(a-1)\n",
        "a=5\n",
        "print(permutations(a))\n"
      ],
      "metadata": {
        "id": "9UbzoY0aV2qM",
        "colab": {
          "base_uri": "https://localhost:8080/"
        },
        "outputId": "f9a50826-06d1-4f32-ea31-fecd433464ad"
      },
      "execution_count": null,
      "outputs": [
        {
          "output_type": "stream",
          "name": "stdout",
          "text": [
            "120\n"
          ]
        }
      ]
    },
    {
      "cell_type": "markdown",
      "source": [
        "10. Write a recursive Python function to check if a string is a palindrome.\n"
      ],
      "metadata": {
        "id": "FaSWvFENtgpt"
      }
    },
    {
      "cell_type": "code",
      "source": [
        "def palindrome(s):\n",
        "  if len(s)<=1:\n",
        "    return True\n",
        "  elif s[0]==s[-1]:\n",
        "    return palindrome(s[1:-1])\n",
        "  else:\n",
        "    return False\n",
        "s=\"radar\"\n",
        "result=palindrome(s)\n",
        "if result:\n",
        "  print(\"string\",s,\" is palindrome\")\n",
        "else:\n",
        "  print(\"string\",s,\"is not palindrome\")\n"
      ],
      "metadata": {
        "colab": {
          "base_uri": "https://localhost:8080/"
        },
        "id": "wDRE5kEytWwd",
        "outputId": "0c27f9f8-1ef4-471b-edaa-915c2dc85fdf"
      },
      "execution_count": null,
      "outputs": [
        {
          "output_type": "stream",
          "name": "stdout",
          "text": [
            "string radar  is palindrome\n"
          ]
        }
      ]
    },
    {
      "cell_type": "markdown",
      "source": [
        "11. Create a recursive Python function to generate all possible combinations of a list of elements"
      ],
      "metadata": {
        "id": "U13itQiv0m5G"
      }
    },
    {
      "cell_type": "code",
      "source": [
        "def combination(l):\n"
      ],
      "metadata": {
        "id": "LrjwxsZjyEjB"
      },
      "execution_count": null,
      "outputs": []
    },
    {
      "cell_type": "markdown",
      "source": [
        "Basics of Functions:\n",
        "----"
      ],
      "metadata": {
        "id": "0xMtjUwJ1Mcu"
      }
    },
    {
      "cell_type": "markdown",
      "source": [
        "1. What is a function in Python, and why is it used?"
      ],
      "metadata": {
        "id": "u5oao9MN1QTZ"
      }
    },
    {
      "cell_type": "code",
      "source": [
        "##Functions provide a way to structure a program into smaller, modular components, making the code more readable\n",
        "##Once a function is defined, it can be reused in different parts of the program. This promotes code reuse and helps avoid redundancy.\n",
        "def greet(name):\n",
        "    \"\"\"This function prints a greeting message.\"\"\"\n",
        "    print(f\"Hello, {name}!\")\n",
        "\n",
        "# Calling the function\n",
        "greet(\"anshi\")\n"
      ],
      "metadata": {
        "colab": {
          "base_uri": "https://localhost:8080/"
        },
        "id": "JQUV9tys0n2Y",
        "outputId": "d4b70991-a1fd-4370-badf-d752aade7d01"
      },
      "execution_count": null,
      "outputs": [
        {
          "output_type": "stream",
          "name": "stdout",
          "text": [
            "Hello, anshi!\n"
          ]
        }
      ]
    },
    {
      "cell_type": "markdown",
      "source": [
        "2. How do you define a function in Python? Provide an example"
      ],
      "metadata": {
        "id": "owNBFNKS2G30"
      }
    },
    {
      "cell_type": "code",
      "source": [
        "##In Python, function  is define using the def keyword, followed by the function name, a pair of parentheses for parameters, and a colon\n",
        "def greet(name):\n",
        "    \"\"\"This function prints a greeting message.\"\"\"\n",
        "    print(f\"Hello, {name}!\")\n",
        "\n",
        "# Calling the function\n",
        "greet(\"anshi\")"
      ],
      "metadata": {
        "colab": {
          "base_uri": "https://localhost:8080/"
        },
        "id": "IjN1_gt614RZ",
        "outputId": "1b3d4f7b-e3fe-4f1e-9cc1-8d964b3ed482"
      },
      "execution_count": null,
      "outputs": [
        {
          "output_type": "stream",
          "name": "stdout",
          "text": [
            "Hello, anshi!\n"
          ]
        }
      ]
    },
    {
      "cell_type": "markdown",
      "source": [
        "3. Explain the difference between a function definition and a function call."
      ],
      "metadata": {
        "id": "FVwgmVXB2wrD"
      }
    },
    {
      "cell_type": "code",
      "source": [
        "##A function call is the process of executing a function that has been previously defined\n",
        "## A function definition is the process of creating a function and specifying its behavior. It defines the function's name, parameters (if any), and the code that gets executed when the function is called."
      ],
      "metadata": {
        "id": "zOg6n1MU2d1w"
      },
      "execution_count": null,
      "outputs": []
    },
    {
      "cell_type": "markdown",
      "source": [
        "4. Write a Python program that defines a function to calculate the sum of two numbers and then\n",
        "calls the function.\n"
      ],
      "metadata": {
        "id": "C5Tlucv_5ZQV"
      }
    },
    {
      "cell_type": "code",
      "source": [
        "## defining  a function\n",
        "def sum_no(x,y):\n",
        "  return x+y\n",
        "  ## calling a function\n",
        "sum_no(5,10)\n",
        "print(\"the sum of numbers is\",sum_no(5,10))\n"
      ],
      "metadata": {
        "colab": {
          "base_uri": "https://localhost:8080/"
        },
        "id": "duoledov2x96",
        "outputId": "d310cf15-5742-440b-ce97-1db49a2c448e"
      },
      "execution_count": null,
      "outputs": [
        {
          "output_type": "stream",
          "name": "stdout",
          "text": [
            "the sum of numbers is 15\n"
          ]
        }
      ]
    },
    {
      "cell_type": "markdown",
      "source": [
        "5. What is a function signature, and what information does it typically include?"
      ],
      "metadata": {
        "id": "I8npslXu6Fd4"
      }
    },
    {
      "cell_type": "code",
      "source": [
        "##A function signature is a concise way of representing essential information about a function in a programming language\n",
        "''' it mainly include\n",
        "      function name\n",
        "      return type\n",
        "      parameter\n",
        "      parameter type\n"
      ],
      "metadata": {
        "id": "R3GYc_bh502S"
      },
      "execution_count": null,
      "outputs": []
    },
    {
      "cell_type": "markdown",
      "source": [
        "6. Create a Python function that takes two arguments and returns their product."
      ],
      "metadata": {
        "id": "Hn95cprwxL_k"
      }
    },
    {
      "cell_type": "code",
      "source": [
        "def product(a,b):\n",
        "  return a*b\n",
        "a=int(input(\"enter a number\"))\n",
        "b=int(input(\"enter another number\"))\n",
        "print(\"the product of given numbers is\",product(a,b))"
      ],
      "metadata": {
        "id": "XXBFyAdG6Gil",
        "colab": {
          "base_uri": "https://localhost:8080/"
        },
        "outputId": "b669eee7-b2c2-41b7-8227-7ceea3f47c3b"
      },
      "execution_count": null,
      "outputs": [
        {
          "output_type": "stream",
          "name": "stdout",
          "text": [
            "enter a number5\n",
            "enter another number10\n",
            "the product of given numbers is 50\n"
          ]
        }
      ]
    },
    {
      "cell_type": "markdown",
      "source": [
        "Function Parameters and Arguments:"
      ],
      "metadata": {
        "id": "doin6Z9ExxrX"
      }
    },
    {
      "cell_type": "markdown",
      "source": [
        "1. Explain the concepts of formal parameters and actual arguments in Python functions"
      ],
      "metadata": {
        "id": "58Tx3Sk5x1Bz"
      }
    },
    {
      "cell_type": "code",
      "source": [
        "\"\"\" formal parameters are  the placeholders for the actual values that will be passed to the function when it is called\n",
        "for example\"\"\"\n",
        "def sum1(a,b):\n",
        "  ## a,b are formal parameters\n",
        "  return a+b\n",
        "\"\"\"actual parameters  are the values or variables that are passed to the function when it is called.\"\"\"\n",
        "sum1(4,5)## here 4,5 are actual parameters\n"
      ],
      "metadata": {
        "colab": {
          "base_uri": "https://localhost:8080/"
        },
        "id": "tzoBxIrkxlxa",
        "outputId": "abb40eae-ac45-4d8b-971c-94599b1ab766"
      },
      "execution_count": null,
      "outputs": [
        {
          "output_type": "execute_result",
          "data": {
            "text/plain": [
              "9"
            ]
          },
          "metadata": {},
          "execution_count": 9
        }
      ]
    },
    {
      "cell_type": "markdown",
      "source": [
        "2. Write a Python program that defines a function with default argument values."
      ],
      "metadata": {
        "id": "o8gRB1F30ABb"
      }
    },
    {
      "cell_type": "code",
      "source": [
        "def product(a,b=5):\n",
        "  ### here b=5 is default argument having a default value\n",
        "  return a*b\n",
        "print(\"the product of given numbers is\",product(6))\n"
      ],
      "metadata": {
        "colab": {
          "base_uri": "https://localhost:8080/"
        },
        "id": "Oxm86JUnz9BB",
        "outputId": "fe6dbdab-76e6-4b8f-c736-82475d69551c"
      },
      "execution_count": null,
      "outputs": [
        {
          "output_type": "stream",
          "name": "stdout",
          "text": [
            "the product of given numbers is 30\n"
          ]
        }
      ]
    },
    {
      "cell_type": "markdown",
      "source": [
        "3. How do you use keyword arguments in Python function calls? Provide an example"
      ],
      "metadata": {
        "id": "Qmn7GpKm0lwh"
      }
    },
    {
      "cell_type": "code",
      "source": [
        "###Keyword Arguments are the  Values passed to the function using the parameter names.\n",
        "def subtract(a,b):\n",
        "\n",
        "  return a-b\n",
        "print(subtract(a=10,b=3))\n",
        "### 10 and 3 are keyword arguments"
      ],
      "metadata": {
        "colab": {
          "base_uri": "https://localhost:8080/"
        },
        "id": "_BursFVe0jOl",
        "outputId": "f9c4d379-bb31-4ead-fdd1-63b3224d5bd1"
      },
      "execution_count": null,
      "outputs": [
        {
          "output_type": "stream",
          "name": "stdout",
          "text": [
            "7\n"
          ]
        }
      ]
    },
    {
      "cell_type": "markdown",
      "source": [
        "4. Create a Python function that accepts a variable number of arguments and calculates their sum"
      ],
      "metadata": {
        "id": "xKrR6OIa9rin"
      }
    },
    {
      "cell_type": "code",
      "source": [
        "def sum_num(*args):\n",
        "  total=sum(args)\n",
        "  return total\n",
        "result=sum_num(1,2,3,4,5,6,7,8,9)\n",
        "print(result)"
      ],
      "metadata": {
        "colab": {
          "base_uri": "https://localhost:8080/"
        },
        "id": "VmM9S9B09slb",
        "outputId": "0e23331e-fd55-4fef-9767-16283ad8a273"
      },
      "execution_count": null,
      "outputs": [
        {
          "output_type": "stream",
          "name": "stdout",
          "text": [
            "45\n"
          ]
        }
      ]
    },
    {
      "cell_type": "markdown",
      "source": [
        "5. What is the purpose of the `*args` and `**kwargs` syntax in function parameter lists?\n"
      ],
      "metadata": {
        "id": "_ThNG-U7FYTb"
      }
    },
    {
      "cell_type": "code",
      "source": [
        "\"\"\"The *args syntax allows a function to accept any number of positional arguments.\"\"\"\n",
        "def example_function(*args):\n",
        "    for arg in args:\n",
        "        print(arg)\n",
        "\n",
        "example_function(1, 2, 3, 4, 5)\n",
        "\"\"\"The **kwargs syntax allows a function to accept any number of keyword arguments.\"\"\"\n",
        "def example_function(**kwargs):\n",
        "    for key, value in kwargs.items():\n",
        "        print(f\"{key}: {value}\")\n",
        "\n",
        "example_function(name=\"John\", age=25, city=\"Exampleville\")\n"
      ],
      "metadata": {
        "colab": {
          "base_uri": "https://localhost:8080/"
        },
        "id": "hl7zp9xxAQ74",
        "outputId": "5a78ceed-130e-4258-e7bb-b3e90e6cdf6c"
      },
      "execution_count": null,
      "outputs": [
        {
          "output_type": "stream",
          "name": "stdout",
          "text": [
            "1\n",
            "2\n",
            "3\n",
            "4\n",
            "5\n",
            "name: John\n",
            "age: 25\n",
            "city: Exampleville\n"
          ]
        }
      ]
    },
    {
      "cell_type": "markdown",
      "source": [
        "Return Values and Scoping:"
      ],
      "metadata": {
        "id": "A8c9wHYGGNTy"
      }
    },
    {
      "cell_type": "markdown",
      "source": [
        "1. Describe the role of the `return` statement in Python functions and provide examples.\n"
      ],
      "metadata": {
        "id": "BI5kh_SUGSRQ"
      }
    },
    {
      "cell_type": "code",
      "source": [
        ", ###the return statement is used to specify the value that a function should return to the caller\n",
        "def add_numbers(a, b):\n",
        "    result = a + b\n",
        "    return result\n",
        "\n",
        "# Call the function and store the result in a variable\n",
        "sum_result = add_numbers(3, 5)\n",
        "\n",
        "# Print the result\n",
        "print(\"Sum:\", sum_result)\n"
      ],
      "metadata": {
        "id": "JEneQwOPF2_2",
        "colab": {
          "base_uri": "https://localhost:8080/"
        },
        "outputId": "53ed1545-a5fc-43e6-8a8f-5bd08aec76c9"
      },
      "execution_count": null,
      "outputs": [
        {
          "output_type": "stream",
          "name": "stdout",
          "text": [
            "Sum: 8\n"
          ]
        }
      ]
    },
    {
      "cell_type": "markdown",
      "source": [
        "2. Explain the concept of variable scope in Python, including local and global variables.\n"
      ],
      "metadata": {
        "id": "95rbE_sceUP2"
      }
    },
    {
      "cell_type": "code",
      "source": [
        "## variable scope in python determines where in your code a variable can be used and modified\n",
        "##Local Variables:\n",
        "\n",
        "\"\"\"Local variables are those that are defined within a function or a block of code\"\"\"\n",
        "def function():\n",
        "  x=5\n",
        "  print(x)\n",
        "\n",
        "function()\n",
        "##Global Variables:\n",
        "\n",
        "\"\"\"Global variables are defined outside of any function or block, usually at the top level of a script or module.\"\"\"\n",
        "y=10\n",
        "def function_1():\n",
        "  print(y)\n",
        "function_1()\n"
      ],
      "metadata": {
        "id": "0v3NvvYPfjim",
        "colab": {
          "base_uri": "https://localhost:8080/"
        },
        "outputId": "19fcdd61-a065-4ade-d173-67157f8e5269"
      },
      "execution_count": null,
      "outputs": [
        {
          "output_type": "stream",
          "name": "stdout",
          "text": [
            "5\n",
            "10\n"
          ]
        }
      ]
    },
    {
      "cell_type": "markdown",
      "source": [
        "3. Write a Python program that demonstrates the use of global variables within functions."
      ],
      "metadata": {
        "id": "CNxt7MMbgS3N"
      }
    },
    {
      "cell_type": "code",
      "source": [
        "y=10## y is a global variable here\n",
        "def function_1():\n",
        "  print(y)## printing global variable\n",
        "function_1()## calling function"
      ],
      "metadata": {
        "colab": {
          "base_uri": "https://localhost:8080/"
        },
        "id": "JHRWgMCCgCWF",
        "outputId": "2597e722-50a0-40c9-a619-46b26d8f6c93"
      },
      "execution_count": null,
      "outputs": [
        {
          "output_type": "stream",
          "name": "stdout",
          "text": [
            "10\n"
          ]
        }
      ]
    },
    {
      "cell_type": "markdown",
      "source": [
        "4. Create a Python function that calculates the factorial of a number and returns it.\n"
      ],
      "metadata": {
        "id": "wFpzX1N_hgTK"
      }
    },
    {
      "cell_type": "code",
      "source": [
        "def fact(n):\n",
        "  if n<0:\n",
        "    return f'invalid input'\n",
        "  if n<=1:\n",
        "    return 1\n",
        "  else:\n",
        "    return n* fact(n-1)\n",
        "\n",
        "n=int(input(\"enter a number\"))\n",
        "fact(n)\n"
      ],
      "metadata": {
        "colab": {
          "base_uri": "https://localhost:8080/"
        },
        "id": "GX3X58pAhBM-",
        "outputId": "f11ba157-91f6-4916-e6cf-b0af6b8ad5e9"
      },
      "execution_count": null,
      "outputs": [
        {
          "name": "stdout",
          "output_type": "stream",
          "text": [
            "enter a number5\n"
          ]
        },
        {
          "output_type": "execute_result",
          "data": {
            "text/plain": [
              "120"
            ]
          },
          "metadata": {},
          "execution_count": 5
        }
      ]
    },
    {
      "cell_type": "markdown",
      "source": [
        "5. How can you access variables defined outside a function from within the function?\n"
      ],
      "metadata": {
        "id": "CNKCJRgYijEp"
      }
    },
    {
      "cell_type": "code",
      "source": [
        "##we can access variables defined outside a function from within the function by using the global keyword\n",
        "global_variable = 10\n",
        "\n",
        "def modify_global():\n",
        "    global global_variable\n",
        "    global_variable += 5\n",
        "\n",
        "modify_global()\n",
        "print(global_variable)  # Output: 15\n"
      ],
      "metadata": {
        "colab": {
          "base_uri": "https://localhost:8080/"
        },
        "id": "dNZqFImyiJnm",
        "outputId": "90485490-a7f8-4a48-84f3-5e05cd71a947"
      },
      "execution_count": null,
      "outputs": [
        {
          "output_type": "stream",
          "name": "stdout",
          "text": [
            "15\n"
          ]
        }
      ]
    },
    {
      "cell_type": "markdown",
      "source": [
        "###Lambda Functions and Higher-Order Functions:\n",
        "---"
      ],
      "metadata": {
        "id": "sz3i_uHJi_mF"
      }
    },
    {
      "cell_type": "markdown",
      "source": [
        "1. What are lambda functions in Python, and when are they typically used?"
      ],
      "metadata": {
        "id": "CPYqLPuLjICY"
      }
    },
    {
      "cell_type": "code",
      "source": [
        "###. Lambda functions are typically used for short-term operations where a full function definition is not required\n",
        "###lambda arguments: expression\n",
        "\n",
        "square = lambda x: x ** 2\n",
        "print(square(5))  # Output: 25\n"
      ],
      "metadata": {
        "colab": {
          "base_uri": "https://localhost:8080/"
        },
        "id": "1XCL2Uhki9At",
        "outputId": "d41c4378-609a-46ff-9fe7-6c043dbeabf1"
      },
      "execution_count": null,
      "outputs": [
        {
          "output_type": "stream",
          "name": "stdout",
          "text": [
            "25\n"
          ]
        }
      ]
    },
    {
      "cell_type": "markdown",
      "source": [
        "2. Write a Python program that uses lambda functions to sort a list of tuples based on the second\n",
        "element.\n"
      ],
      "metadata": {
        "id": "pFFrUN50jojw"
      }
    },
    {
      "cell_type": "code",
      "source": [
        "## define a list of tuples\n",
        "data = [(3, 10), (1, 5), (2, 8), (4, 3)]\n",
        "## define lambda function\n",
        "sort=sorted(data, key=lambda x:x[1])\n",
        "## print the result\n",
        "print(sort)"
      ],
      "metadata": {
        "colab": {
          "base_uri": "https://localhost:8080/"
        },
        "id": "GSNcx5BijmVP",
        "outputId": "9f4b6ca2-5f3a-4b25-aea4-15261a48891f"
      },
      "execution_count": null,
      "outputs": [
        {
          "output_type": "stream",
          "name": "stdout",
          "text": [
            "[(4, 3), (1, 5), (2, 8), (3, 10)]\n"
          ]
        }
      ]
    },
    {
      "cell_type": "markdown",
      "source": [
        "3. Explain the concept of higher-order functions in Python, and provide an example.\n"
      ],
      "metadata": {
        "id": "UvB4PWk9k-9x"
      }
    },
    {
      "cell_type": "code",
      "source": [
        "###a higher-order function is a function that either takes one or more functions as arguments or returns a function as its result\n",
        "# Higher-order function that takes a function as an argument\n",
        "def apply_operation(x, y, operation):\n",
        "    return operation(x, y)\n",
        "\n",
        "# Functions to be used as arguments\n",
        "def add(a, b):\n",
        "    return a + b\n",
        "\n",
        "def multiply(a, b):\n",
        "    return a * b\n",
        "\n",
        "# Using the higher-order function with different operations\n",
        "result_addition = apply_operation(3, 5, add)\n",
        "result_multiplication = apply_operation(3, 5, multiply)\n",
        "\n",
        "# Displaying the results\n",
        "print(\"Result of addition:\", result_addition)           # Output: 8\n",
        "print(\"Result of multiplication:\", result_multiplication) # Output: 15\n"
      ],
      "metadata": {
        "id": "W693D3kskwnz",
        "colab": {
          "base_uri": "https://localhost:8080/"
        },
        "outputId": "a19bde60-e3e8-4867-b217-0eb3368914ac"
      },
      "execution_count": 30,
      "outputs": [
        {
          "output_type": "stream",
          "name": "stdout",
          "text": [
            "Result of addition: 8\n",
            "Result of multiplication: 15\n"
          ]
        }
      ]
    },
    {
      "cell_type": "markdown",
      "source": [
        "4. Create a Python function that takes a list of numbers and a function as arguments, applying the\n",
        "function to each element in the list.\n"
      ],
      "metadata": {
        "id": "Jpgituuxldzr"
      }
    },
    {
      "cell_type": "code",
      "source": [
        "l=[1,2,3,4,4,6,7,8,9]\n",
        "def fun(l,operation):\n",
        "  return[operation(num) for num in l ]\n",
        "def square(x):\n",
        "  return x**2\n",
        "result=fun(l,square)\n",
        "print(result)\n"
      ],
      "metadata": {
        "colab": {
          "base_uri": "https://localhost:8080/"
        },
        "id": "bXuCEWC6lgmE",
        "outputId": "c5140076-57ca-4a6b-eb2a-d654b38ad35e"
      },
      "execution_count": null,
      "outputs": [
        {
          "output_type": "stream",
          "name": "stdout",
          "text": [
            "[1, 4, 9, 16, 16, 36, 49, 64, 81]\n"
          ]
        }
      ]
    },
    {
      "cell_type": "markdown",
      "source": [
        "###Built-in Functions:\n",
        "----"
      ],
      "metadata": {
        "id": "9JsaVF1znRb9"
      }
    },
    {
      "cell_type": "markdown",
      "source": [
        "1. Describe the role of built-in functions like `len()`, `max()`, and `min()` in Python"
      ],
      "metadata": {
        "id": "JQq0MTBvnuLb"
      }
    },
    {
      "cell_type": "code",
      "source": [
        "\"\"\"len():- this will define the length of the input list ,string, dict ,etc\"\"\"\n",
        "l=[1,2,3,4,5]\n",
        "## finding the length of the list defined\n",
        "print(\"length of the list is\",len(l))\n",
        "\"\"\"max():- this will find the maximum element\"\"\"\n",
        "l1=[2,5,65,14,18,95]\n",
        "print(\"maximum number in the list is\",max(l1))\n",
        "\"\"\"min:- this will find the minimum element\"\"\"\n",
        "l2=[14,26,15,58,17,16,158]\n",
        "print(\"minimum element in l2 is\",min(l2))"
      ],
      "metadata": {
        "colab": {
          "base_uri": "https://localhost:8080/"
        },
        "id": "8BR1XpHOmjTq",
        "outputId": "c59ab1c4-503b-4bb5-9727-d6489c463aa0"
      },
      "execution_count": null,
      "outputs": [
        {
          "output_type": "stream",
          "name": "stdout",
          "text": [
            "length of the list is 5\n",
            "maximum number in the list is 95\n",
            "minimum element in l2 is 14\n"
          ]
        }
      ]
    },
    {
      "cell_type": "markdown",
      "source": [
        "2. Write a Python program that uses the `map()` function to apply a function to each element of a\n",
        "list.\n"
      ],
      "metadata": {
        "id": "Vmrn6P2_pFnD"
      }
    },
    {
      "cell_type": "code",
      "source": [
        "n=[1,2,3,4]\n",
        "def square(x):\n",
        "  return x**2\n",
        "result=list(map(square,n))\n",
        "print(result)"
      ],
      "metadata": {
        "colab": {
          "base_uri": "https://localhost:8080/"
        },
        "id": "fotmJ0zMpB94",
        "outputId": "1c7c4f19-41ec-4b53-8845-7d5973aa9141"
      },
      "execution_count": null,
      "outputs": [
        {
          "output_type": "stream",
          "name": "stdout",
          "text": [
            "[1, 4, 9, 16]\n"
          ]
        }
      ]
    },
    {
      "cell_type": "markdown",
      "source": [
        "3. How does the `filter()` function work in Python, and when would you use it?"
      ],
      "metadata": {
        "id": "1kO76xHYqG3c"
      }
    },
    {
      "cell_type": "code",
      "source": [
        "###The filter() function in Python is used to filter elements of an iterable based on function\n",
        "l=[1,2,3,4,5,6,7,8,9,10]\n",
        "def even(x):\n",
        "  return x%2==0\n",
        "result=list(filter(even,l))\n",
        "print(result)\n"
      ],
      "metadata": {
        "colab": {
          "base_uri": "https://localhost:8080/"
        },
        "id": "X1taI4yVpx2o",
        "outputId": "b8ae5350-8e78-4898-ab51-c33724d530c4"
      },
      "execution_count": null,
      "outputs": [
        {
          "output_type": "stream",
          "name": "stdout",
          "text": [
            "[2, 4, 6, 8, 10]\n"
          ]
        }
      ]
    },
    {
      "cell_type": "markdown",
      "source": [
        "4. Create a Python program that uses the `reduce()` function to find the product of all elements in\n",
        "a list"
      ],
      "metadata": {
        "id": "1TLQsjvurB0h"
      }
    },
    {
      "cell_type": "code",
      "source": [
        "l=[1,2,3,4,5,6,7,8,9]\n",
        "from functools import reduce\n",
        "def product(x,y):\n",
        "  return x*y\n",
        "result=reduce(product,l)\n",
        "print(result)"
      ],
      "metadata": {
        "colab": {
          "base_uri": "https://localhost:8080/"
        },
        "id": "TVbOaxkHq6TW",
        "outputId": "275dc46e-ff8e-4909-a4fa-b9484fcf420e"
      },
      "execution_count": null,
      "outputs": [
        {
          "output_type": "stream",
          "name": "stdout",
          "text": [
            "362880\n"
          ]
        }
      ]
    },
    {
      "cell_type": "markdown",
      "source": [
        "###Function Documentation and Best Practices:\n",
        "----"
      ],
      "metadata": {
        "id": "sR6sDSSyr5EZ"
      }
    },
    {
      "cell_type": "markdown",
      "source": [
        "1. Explain the purpose of docstrings in Python functions and how to write them."
      ],
      "metadata": {
        "id": "09pVh20EsMpK"
      }
    },
    {
      "cell_type": "code",
      "source": [
        "###In Python, a docstring is a string literal that occurs as the first statement in a module, function, class, or method definition.\n",
        "##Docstrings are created using triple double-quotes (\"\"\")\n",
        "## for example:\n",
        "def add(a, b):\n",
        "    \"\"\"\n",
        "    Adds two numbers.\n",
        "\n",
        "    Parameters:\n",
        "    - a (int): The first number.\n",
        "    - b (int): The second number.\n",
        "\n",
        "    Returns:\n",
        "    int: The sum of a and b.\n",
        "    \"\"\"\n",
        "    return a + b\n",
        "\n",
        "a=5\n",
        "b=10\n",
        "print(add(a,b))"
      ],
      "metadata": {
        "colab": {
          "base_uri": "https://localhost:8080/"
        },
        "id": "JR-8RK-IrbCW",
        "outputId": "5accf0eb-ffd0-4eea-caab-5948ba94c9d0"
      },
      "execution_count": null,
      "outputs": [
        {
          "output_type": "stream",
          "name": "stdout",
          "text": [
            "15\n"
          ]
        }
      ]
    },
    {
      "cell_type": "code",
      "source": [],
      "metadata": {
        "id": "M1uWWCFxtkIs"
      },
      "execution_count": null,
      "outputs": []
    },
    {
      "cell_type": "markdown",
      "source": [
        "2. D\n",
        "e\n",
        "s\n",
        "c\n",
        "rib\n",
        "e\n",
        "s\n",
        "o\n",
        "m\n",
        "e\n",
        "b\n",
        "e\n",
        "s\n",
        "t\n",
        "p\n",
        "r\n",
        "a\n",
        "c\n",
        "tic\n",
        "e\n",
        "s\n",
        "f\n",
        "o\n",
        "r\n",
        "n\n",
        "a\n",
        "min\n",
        "g\n",
        "f\n",
        "u\n",
        "n\n",
        "c\n",
        "tio\n",
        "n\n",
        "s\n",
        "a\n",
        "n\n",
        "d\n",
        "v\n",
        "a\n",
        "ria\n",
        "ble\n",
        "s in\n",
        "P\n",
        "y\n",
        "t\n",
        "h\n",
        "o\n",
        "n\n",
        ", in\n",
        "clu\n",
        "din\n",
        "g\n",
        "n\n",
        "a\n",
        "min\n",
        "g\n",
        "c\n",
        "o\n",
        "n\n",
        "v\n",
        "e\n",
        "n\n",
        "tio\n",
        "n\n",
        "s\n",
        "a\n",
        "n\n",
        "d\n",
        "g\n",
        "uid\n",
        "elin\n",
        "e\n",
        "s.\n",
        "\n",
        "---\n",
        "\n",
        "\n",
        "\n",
        "---\n",
        "\n"
      ],
      "metadata": {
        "id": "wxZBsLbTu87_"
      }
    },
    {
      "cell_type": "code",
      "source": [
        "###Variable Naming:\n",
        "\"\"\"Similar to functions, choose variable names that are descriptive and concise.\n",
        "   Use lowercase letters and underscores to separate words in variable names.\n",
        "   In most cases, avoid using single-letter names for variables\"\"\"\n",
        "##Function Naming:\n",
        "\"\"\"Choose names that clearly describe the purpose or action of the function.\n",
        "   Use lowercase letters with underscores to separate words\n",
        "   Avoid Single-letter Names\"\"\""
      ],
      "metadata": {
        "colab": {
          "base_uri": "https://localhost:8080/",
          "height": 36
        },
        "id": "AL9jyU2PvcM2",
        "outputId": "1e21fb7c-3f7d-4025-f683-255031d690e3"
      },
      "execution_count": 29,
      "outputs": [
        {
          "output_type": "execute_result",
          "data": {
            "text/plain": [
              "'Choose names that clearly describe the purpose or action of the function.\\n   Use lowercase letters with underscores to separate words\\n   Avoid Single-letter Names'"
            ],
            "application/vnd.google.colaboratory.intrinsic+json": {
              "type": "string"
            }
          },
          "metadata": {},
          "execution_count": 29
        }
      ]
    },
    {
      "cell_type": "code",
      "source": [],
      "metadata": {
        "id": "xQMkfEbnwbFO"
      },
      "execution_count": null,
      "outputs": []
    }
  ]
}